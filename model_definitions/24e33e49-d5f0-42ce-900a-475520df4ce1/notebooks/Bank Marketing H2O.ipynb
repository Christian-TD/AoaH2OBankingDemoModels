{
 "cells": [
  {
   "cell_type": "markdown",
   "id": "f5455c47-44e9-441d-b705-a839ced32058",
   "metadata": {},
   "source": [
    "Install and load required packages"
   ]
  },
  {
   "cell_type": "code",
   "execution_count": 11,
   "id": "2d51cbac-0dee-4044-9435-83976dce5d27",
   "metadata": {},
   "outputs": [],
   "source": [
    "import os\n",
    "import pandas as pd\n",
    "import numpy as np\n",
    "import matplotlib.pyplot as plt\n",
    "import warnings\n",
    "\n",
    "warnings.filterwarnings(action='ignore', category=DeprecationWarning)"
   ]
  },
  {
   "cell_type": "code",
   "execution_count": 2,
   "id": "91ce2a01-6e94-451e-82ed-874577bb52b4",
   "metadata": {},
   "outputs": [],
   "source": [
    "from teradataml.dataframe.copy_to import copy_to_sql\n",
    "from teradataml.context.context import get_connection\n",
    "from teradataml.dataframe.dataframe import DataFrame\n",
    "from teradataml import create_context\n",
    "import getpass"
   ]
  },
  {
   "cell_type": "markdown",
   "id": "bd6650d9-dca9-4c67-88e9-de4d689cd670",
   "metadata": {},
   "source": [
    "Replace your cluster details for your user, password, host and database."
   ]
  },
  {
   "cell_type": "code",
   "execution_count": 3,
   "id": "af3e4f52-288e-43cb-994b-c5e86206fd90",
   "metadata": {},
   "outputs": [
    {
     "name": "stdin",
     "output_type": "stream",
     "text": [
      "password ··········\n"
     ]
    }
   ],
   "source": [
    "engine = create_context(host=\"3.238.151.85\", username=\"AOA_DEMO\", password=getpass.getpass(\"password\"))"
   ]
  },
  {
   "cell_type": "markdown",
   "id": "45f237dd-dfc6-4a81-876d-761448974737",
   "metadata": {},
   "source": [
    "Load and inspect the dataset"
   ]
  },
  {
   "cell_type": "code",
   "execution_count": 4,
   "id": "5121fdb0-2d12-4e92-83cf-5384d09125d9",
   "metadata": {},
   "outputs": [
    {
     "data": {
      "text/html": [
       "<div>\n",
       "<style scoped>\n",
       "    .dataframe tbody tr th:only-of-type {\n",
       "        vertical-align: middle;\n",
       "    }\n",
       "\n",
       "    .dataframe tbody tr th {\n",
       "        vertical-align: top;\n",
       "    }\n",
       "\n",
       "    .dataframe thead th {\n",
       "        text-align: right;\n",
       "    }\n",
       "</style>\n",
       "<table border=\"1\" class=\"dataframe\">\n",
       "  <thead>\n",
       "    <tr style=\"text-align: right;\">\n",
       "      <th></th>\n",
       "      <th>age</th>\n",
       "      <th>job</th>\n",
       "      <th>marital</th>\n",
       "      <th>education</th>\n",
       "      <th>default</th>\n",
       "      <th>balance</th>\n",
       "      <th>housing</th>\n",
       "      <th>loan</th>\n",
       "      <th>contact</th>\n",
       "      <th>day</th>\n",
       "      <th>month</th>\n",
       "      <th>duration</th>\n",
       "      <th>campaign</th>\n",
       "      <th>pdays</th>\n",
       "      <th>previous</th>\n",
       "      <th>poutcome</th>\n",
       "      <th>y</th>\n",
       "    </tr>\n",
       "  </thead>\n",
       "  <tbody>\n",
       "    <tr>\n",
       "      <th>0</th>\n",
       "      <td>30</td>\n",
       "      <td>unemployed</td>\n",
       "      <td>married</td>\n",
       "      <td>primary</td>\n",
       "      <td>no</td>\n",
       "      <td>1787</td>\n",
       "      <td>no</td>\n",
       "      <td>no</td>\n",
       "      <td>cellular</td>\n",
       "      <td>19</td>\n",
       "      <td>oct</td>\n",
       "      <td>79</td>\n",
       "      <td>1</td>\n",
       "      <td>-1</td>\n",
       "      <td>0</td>\n",
       "      <td>unknown</td>\n",
       "      <td>no</td>\n",
       "    </tr>\n",
       "    <tr>\n",
       "      <th>1</th>\n",
       "      <td>33</td>\n",
       "      <td>services</td>\n",
       "      <td>married</td>\n",
       "      <td>secondary</td>\n",
       "      <td>no</td>\n",
       "      <td>4789</td>\n",
       "      <td>yes</td>\n",
       "      <td>yes</td>\n",
       "      <td>cellular</td>\n",
       "      <td>11</td>\n",
       "      <td>may</td>\n",
       "      <td>220</td>\n",
       "      <td>1</td>\n",
       "      <td>339</td>\n",
       "      <td>4</td>\n",
       "      <td>failure</td>\n",
       "      <td>no</td>\n",
       "    </tr>\n",
       "    <tr>\n",
       "      <th>2</th>\n",
       "      <td>35</td>\n",
       "      <td>management</td>\n",
       "      <td>single</td>\n",
       "      <td>tertiary</td>\n",
       "      <td>no</td>\n",
       "      <td>1350</td>\n",
       "      <td>yes</td>\n",
       "      <td>no</td>\n",
       "      <td>cellular</td>\n",
       "      <td>16</td>\n",
       "      <td>apr</td>\n",
       "      <td>185</td>\n",
       "      <td>1</td>\n",
       "      <td>330</td>\n",
       "      <td>1</td>\n",
       "      <td>failure</td>\n",
       "      <td>no</td>\n",
       "    </tr>\n",
       "    <tr>\n",
       "      <th>3</th>\n",
       "      <td>30</td>\n",
       "      <td>management</td>\n",
       "      <td>married</td>\n",
       "      <td>tertiary</td>\n",
       "      <td>no</td>\n",
       "      <td>1476</td>\n",
       "      <td>yes</td>\n",
       "      <td>yes</td>\n",
       "      <td>unknown</td>\n",
       "      <td>3</td>\n",
       "      <td>jun</td>\n",
       "      <td>199</td>\n",
       "      <td>4</td>\n",
       "      <td>-1</td>\n",
       "      <td>0</td>\n",
       "      <td>unknown</td>\n",
       "      <td>no</td>\n",
       "    </tr>\n",
       "    <tr>\n",
       "      <th>4</th>\n",
       "      <td>59</td>\n",
       "      <td>blue-collar</td>\n",
       "      <td>married</td>\n",
       "      <td>secondary</td>\n",
       "      <td>no</td>\n",
       "      <td>0</td>\n",
       "      <td>yes</td>\n",
       "      <td>no</td>\n",
       "      <td>unknown</td>\n",
       "      <td>5</td>\n",
       "      <td>may</td>\n",
       "      <td>226</td>\n",
       "      <td>1</td>\n",
       "      <td>-1</td>\n",
       "      <td>0</td>\n",
       "      <td>unknown</td>\n",
       "      <td>no</td>\n",
       "    </tr>\n",
       "  </tbody>\n",
       "</table>\n",
       "</div>"
      ],
      "text/plain": [
       "   age          job  marital  education default balance housing loan  \\\n",
       "0   30   unemployed  married    primary      no    1787      no   no   \n",
       "1   33     services  married  secondary      no    4789     yes  yes   \n",
       "2   35   management   single   tertiary      no    1350     yes   no   \n",
       "3   30   management  married   tertiary      no    1476     yes  yes   \n",
       "4   59  blue-collar  married  secondary      no       0     yes   no   \n",
       "\n",
       "    contact day month  duration  campaign pdays  previous poutcome   y  \n",
       "0  cellular  19   oct        79         1    -1         0  unknown  no  \n",
       "1  cellular  11   may       220         1   339         4  failure  no  \n",
       "2  cellular  16   apr       185         1   330         1  failure  no  \n",
       "3   unknown   3   jun       199         4    -1         0  unknown  no  \n",
       "4   unknown   5   may       226         1    -1         0  unknown  no  "
      ]
     },
     "execution_count": 4,
     "metadata": {},
     "output_type": "execute_result"
    }
   ],
   "source": [
    "dataset = DataFrame(\"bank_marketing_data\").to_pandas()\n",
    "# Visualise a table with the first rows of the dataset, to\n",
    "# better understand the data format\n",
    "dataset.head()"
   ]
  },
  {
   "cell_type": "markdown",
   "id": "a9ae3f18-4ed7-4b9e-9235-c673ab4d28ab",
   "metadata": {},
   "source": [
    "Check for correlations"
   ]
  },
  {
   "cell_type": "code",
   "execution_count": 7,
   "id": "2cee558a-625b-4e4b-b1d3-13164b18a26e",
   "metadata": {},
   "outputs": [
    {
     "data": {
      "text/html": [
       "<div>\n",
       "<style scoped>\n",
       "    .dataframe tbody tr th:only-of-type {\n",
       "        vertical-align: middle;\n",
       "    }\n",
       "\n",
       "    .dataframe tbody tr th {\n",
       "        vertical-align: top;\n",
       "    }\n",
       "\n",
       "    .dataframe thead th {\n",
       "        text-align: right;\n",
       "    }\n",
       "</style>\n",
       "<table border=\"1\" class=\"dataframe\">\n",
       "  <thead>\n",
       "    <tr style=\"text-align: right;\">\n",
       "      <th></th>\n",
       "      <th>age</th>\n",
       "      <th>job</th>\n",
       "      <th>marital</th>\n",
       "      <th>education</th>\n",
       "      <th>default</th>\n",
       "      <th>balance</th>\n",
       "      <th>housing</th>\n",
       "      <th>loan</th>\n",
       "      <th>contact</th>\n",
       "      <th>day</th>\n",
       "      <th>month</th>\n",
       "      <th>duration</th>\n",
       "      <th>campaign</th>\n",
       "      <th>pdays</th>\n",
       "      <th>previous</th>\n",
       "      <th>poutcome</th>\n",
       "      <th>y</th>\n",
       "    </tr>\n",
       "  </thead>\n",
       "  <tbody>\n",
       "    <tr>\n",
       "      <th>age</th>\n",
       "      <td>1.000000</td>\n",
       "      <td>0.166402</td>\n",
       "      <td>-0.007715</td>\n",
       "      <td>-0.045936</td>\n",
       "      <td>-0.007067</td>\n",
       "      <td>0.016128</td>\n",
       "      <td>-0.111345</td>\n",
       "      <td>-0.002402</td>\n",
       "      <td>0.050737</td>\n",
       "      <td>0.023363</td>\n",
       "      <td>0.035760</td>\n",
       "      <td>0.026622</td>\n",
       "      <td>-0.010558</td>\n",
       "      <td>0.036239</td>\n",
       "      <td>0.012112</td>\n",
       "      <td>0.045800</td>\n",
       "      <td>0.065228</td>\n",
       "    </tr>\n",
       "    <tr>\n",
       "      <th>job</th>\n",
       "      <td>0.166402</td>\n",
       "      <td>1.000000</td>\n",
       "      <td>-0.012186</td>\n",
       "      <td>-0.088132</td>\n",
       "      <td>-0.002168</td>\n",
       "      <td>-0.015648</td>\n",
       "      <td>-0.160040</td>\n",
       "      <td>0.001375</td>\n",
       "      <td>0.024281</td>\n",
       "      <td>0.005493</td>\n",
       "      <td>0.067786</td>\n",
       "      <td>-0.020892</td>\n",
       "      <td>-0.036376</td>\n",
       "      <td>0.024443</td>\n",
       "      <td>0.022966</td>\n",
       "      <td>0.047513</td>\n",
       "      <td>0.068978</td>\n",
       "    </tr>\n",
       "    <tr>\n",
       "      <th>marital</th>\n",
       "      <td>-0.007715</td>\n",
       "      <td>-0.012186</td>\n",
       "      <td>1.000000</td>\n",
       "      <td>0.090907</td>\n",
       "      <td>0.049837</td>\n",
       "      <td>-0.026206</td>\n",
       "      <td>-0.027397</td>\n",
       "      <td>-0.014321</td>\n",
       "      <td>-0.031768</td>\n",
       "      <td>0.025010</td>\n",
       "      <td>-0.009086</td>\n",
       "      <td>0.008537</td>\n",
       "      <td>-0.021882</td>\n",
       "      <td>0.009266</td>\n",
       "      <td>-0.001322</td>\n",
       "      <td>-0.000989</td>\n",
       "      <td>0.061242</td>\n",
       "    </tr>\n",
       "    <tr>\n",
       "      <th>education</th>\n",
       "      <td>-0.045936</td>\n",
       "      <td>-0.088132</td>\n",
       "      <td>0.090907</td>\n",
       "      <td>1.000000</td>\n",
       "      <td>-0.010534</td>\n",
       "      <td>0.011534</td>\n",
       "      <td>-0.087070</td>\n",
       "      <td>-0.054086</td>\n",
       "      <td>-0.110384</td>\n",
       "      <td>-0.010523</td>\n",
       "      <td>0.072546</td>\n",
       "      <td>-0.012168</td>\n",
       "      <td>0.005049</td>\n",
       "      <td>0.025968</td>\n",
       "      <td>0.027182</td>\n",
       "      <td>0.045689</td>\n",
       "      <td>0.042987</td>\n",
       "    </tr>\n",
       "    <tr>\n",
       "      <th>default</th>\n",
       "      <td>-0.007067</td>\n",
       "      <td>-0.002168</td>\n",
       "      <td>0.049837</td>\n",
       "      <td>-0.010534</td>\n",
       "      <td>1.000000</td>\n",
       "      <td>-0.022277</td>\n",
       "      <td>0.006881</td>\n",
       "      <td>0.063994</td>\n",
       "      <td>-0.006654</td>\n",
       "      <td>0.010775</td>\n",
       "      <td>0.013052</td>\n",
       "      <td>-0.039377</td>\n",
       "      <td>-0.012759</td>\n",
       "      <td>-0.028827</td>\n",
       "      <td>-0.028712</td>\n",
       "      <td>-0.031354</td>\n",
       "      <td>0.001303</td>\n",
       "    </tr>\n",
       "    <tr>\n",
       "      <th>balance</th>\n",
       "      <td>0.016128</td>\n",
       "      <td>-0.015648</td>\n",
       "      <td>-0.026206</td>\n",
       "      <td>0.011534</td>\n",
       "      <td>-0.022277</td>\n",
       "      <td>1.000000</td>\n",
       "      <td>0.025923</td>\n",
       "      <td>-0.016647</td>\n",
       "      <td>0.018605</td>\n",
       "      <td>-0.007546</td>\n",
       "      <td>-0.012901</td>\n",
       "      <td>0.139572</td>\n",
       "      <td>-0.022156</td>\n",
       "      <td>0.078316</td>\n",
       "      <td>-0.001406</td>\n",
       "      <td>0.006034</td>\n",
       "      <td>0.031489</td>\n",
       "    </tr>\n",
       "    <tr>\n",
       "      <th>housing</th>\n",
       "      <td>-0.111345</td>\n",
       "      <td>-0.160040</td>\n",
       "      <td>-0.027397</td>\n",
       "      <td>-0.087070</td>\n",
       "      <td>0.006881</td>\n",
       "      <td>0.025923</td>\n",
       "      <td>1.000000</td>\n",
       "      <td>0.018451</td>\n",
       "      <td>0.097917</td>\n",
       "      <td>-0.048346</td>\n",
       "      <td>-0.300032</td>\n",
       "      <td>0.020312</td>\n",
       "      <td>-0.010403</td>\n",
       "      <td>0.055139</td>\n",
       "      <td>0.046341</td>\n",
       "      <td>0.006302</td>\n",
       "      <td>-0.104683</td>\n",
       "    </tr>\n",
       "    <tr>\n",
       "      <th>loan</th>\n",
       "      <td>-0.002402</td>\n",
       "      <td>0.001375</td>\n",
       "      <td>-0.014321</td>\n",
       "      <td>-0.054086</td>\n",
       "      <td>0.063994</td>\n",
       "      <td>-0.016647</td>\n",
       "      <td>0.018451</td>\n",
       "      <td>1.000000</td>\n",
       "      <td>-0.008376</td>\n",
       "      <td>0.049655</td>\n",
       "      <td>0.083930</td>\n",
       "      <td>-0.011070</td>\n",
       "      <td>0.006911</td>\n",
       "      <td>-0.020633</td>\n",
       "      <td>-0.026135</td>\n",
       "      <td>-0.053685</td>\n",
       "      <td>-0.070517</td>\n",
       "    </tr>\n",
       "    <tr>\n",
       "      <th>contact</th>\n",
       "      <td>0.050737</td>\n",
       "      <td>0.024281</td>\n",
       "      <td>-0.031768</td>\n",
       "      <td>-0.110384</td>\n",
       "      <td>-0.006654</td>\n",
       "      <td>0.018605</td>\n",
       "      <td>0.097917</td>\n",
       "      <td>-0.008376</td>\n",
       "      <td>1.000000</td>\n",
       "      <td>-0.004404</td>\n",
       "      <td>-0.250411</td>\n",
       "      <td>0.018738</td>\n",
       "      <td>0.032347</td>\n",
       "      <td>-0.132054</td>\n",
       "      <td>-0.123530</td>\n",
       "      <td>-0.149290</td>\n",
       "      <td>-0.082229</td>\n",
       "    </tr>\n",
       "    <tr>\n",
       "      <th>day</th>\n",
       "      <td>0.023363</td>\n",
       "      <td>0.005493</td>\n",
       "      <td>0.025010</td>\n",
       "      <td>-0.010523</td>\n",
       "      <td>0.010775</td>\n",
       "      <td>-0.007546</td>\n",
       "      <td>-0.048346</td>\n",
       "      <td>0.049655</td>\n",
       "      <td>-0.004404</td>\n",
       "      <td>1.000000</td>\n",
       "      <td>0.092859</td>\n",
       "      <td>0.003150</td>\n",
       "      <td>0.049538</td>\n",
       "      <td>-0.028044</td>\n",
       "      <td>-0.028344</td>\n",
       "      <td>-0.018421</td>\n",
       "      <td>0.024205</td>\n",
       "    </tr>\n",
       "    <tr>\n",
       "      <th>month</th>\n",
       "      <td>0.035760</td>\n",
       "      <td>0.067786</td>\n",
       "      <td>-0.009086</td>\n",
       "      <td>0.072546</td>\n",
       "      <td>0.013052</td>\n",
       "      <td>-0.012901</td>\n",
       "      <td>-0.300032</td>\n",
       "      <td>0.083930</td>\n",
       "      <td>-0.250411</td>\n",
       "      <td>0.092859</td>\n",
       "      <td>1.000000</td>\n",
       "      <td>-0.027137</td>\n",
       "      <td>0.075482</td>\n",
       "      <td>-0.020496</td>\n",
       "      <td>-0.031291</td>\n",
       "      <td>0.012942</td>\n",
       "      <td>0.042949</td>\n",
       "    </tr>\n",
       "    <tr>\n",
       "      <th>duration</th>\n",
       "      <td>0.026622</td>\n",
       "      <td>-0.020892</td>\n",
       "      <td>0.008537</td>\n",
       "      <td>-0.012168</td>\n",
       "      <td>-0.039377</td>\n",
       "      <td>0.139572</td>\n",
       "      <td>0.020312</td>\n",
       "      <td>-0.011070</td>\n",
       "      <td>0.018738</td>\n",
       "      <td>0.003150</td>\n",
       "      <td>-0.027137</td>\n",
       "      <td>1.000000</td>\n",
       "      <td>-0.003781</td>\n",
       "      <td>0.047104</td>\n",
       "      <td>0.004100</td>\n",
       "      <td>0.007870</td>\n",
       "      <td>0.209623</td>\n",
       "    </tr>\n",
       "    <tr>\n",
       "      <th>campaign</th>\n",
       "      <td>-0.010558</td>\n",
       "      <td>-0.036376</td>\n",
       "      <td>-0.021882</td>\n",
       "      <td>0.005049</td>\n",
       "      <td>-0.012759</td>\n",
       "      <td>-0.022156</td>\n",
       "      <td>-0.010403</td>\n",
       "      <td>0.006911</td>\n",
       "      <td>0.032347</td>\n",
       "      <td>0.049538</td>\n",
       "      <td>0.075482</td>\n",
       "      <td>-0.003781</td>\n",
       "      <td>1.000000</td>\n",
       "      <td>-0.083623</td>\n",
       "      <td>-0.071951</td>\n",
       "      <td>-0.095872</td>\n",
       "      <td>-0.065629</td>\n",
       "    </tr>\n",
       "    <tr>\n",
       "      <th>pdays</th>\n",
       "      <td>0.036239</td>\n",
       "      <td>0.024443</td>\n",
       "      <td>0.009266</td>\n",
       "      <td>0.025968</td>\n",
       "      <td>-0.028827</td>\n",
       "      <td>0.078316</td>\n",
       "      <td>0.055139</td>\n",
       "      <td>-0.020633</td>\n",
       "      <td>-0.132054</td>\n",
       "      <td>-0.028044</td>\n",
       "      <td>-0.020496</td>\n",
       "      <td>0.047104</td>\n",
       "      <td>-0.083623</td>\n",
       "      <td>1.000000</td>\n",
       "      <td>0.565957</td>\n",
       "      <td>0.682979</td>\n",
       "      <td>0.122070</td>\n",
       "    </tr>\n",
       "    <tr>\n",
       "      <th>previous</th>\n",
       "      <td>0.012112</td>\n",
       "      <td>0.022966</td>\n",
       "      <td>-0.001322</td>\n",
       "      <td>0.027182</td>\n",
       "      <td>-0.028712</td>\n",
       "      <td>-0.001406</td>\n",
       "      <td>0.046341</td>\n",
       "      <td>-0.026135</td>\n",
       "      <td>-0.123530</td>\n",
       "      <td>-0.028344</td>\n",
       "      <td>-0.031291</td>\n",
       "      <td>0.004100</td>\n",
       "      <td>-0.071951</td>\n",
       "      <td>0.565957</td>\n",
       "      <td>1.000000</td>\n",
       "      <td>0.677176</td>\n",
       "      <td>0.122405</td>\n",
       "    </tr>\n",
       "    <tr>\n",
       "      <th>poutcome</th>\n",
       "      <td>0.045800</td>\n",
       "      <td>0.047513</td>\n",
       "      <td>-0.000989</td>\n",
       "      <td>0.045689</td>\n",
       "      <td>-0.031354</td>\n",
       "      <td>0.006034</td>\n",
       "      <td>0.006302</td>\n",
       "      <td>-0.053685</td>\n",
       "      <td>-0.149290</td>\n",
       "      <td>-0.018421</td>\n",
       "      <td>0.012942</td>\n",
       "      <td>0.007870</td>\n",
       "      <td>-0.095872</td>\n",
       "      <td>0.682979</td>\n",
       "      <td>0.677176</td>\n",
       "      <td>1.000000</td>\n",
       "      <td>0.246566</td>\n",
       "    </tr>\n",
       "    <tr>\n",
       "      <th>y</th>\n",
       "      <td>0.065228</td>\n",
       "      <td>0.068978</td>\n",
       "      <td>0.061242</td>\n",
       "      <td>0.042987</td>\n",
       "      <td>0.001303</td>\n",
       "      <td>0.031489</td>\n",
       "      <td>-0.104683</td>\n",
       "      <td>-0.070517</td>\n",
       "      <td>-0.082229</td>\n",
       "      <td>0.024205</td>\n",
       "      <td>0.042949</td>\n",
       "      <td>0.209623</td>\n",
       "      <td>-0.065629</td>\n",
       "      <td>0.122070</td>\n",
       "      <td>0.122405</td>\n",
       "      <td>0.246566</td>\n",
       "      <td>1.000000</td>\n",
       "    </tr>\n",
       "  </tbody>\n",
       "</table>\n",
       "</div>"
      ],
      "text/plain": [
       "                age       job   marital  education   default   balance  \\\n",
       "age        1.000000  0.166402 -0.007715  -0.045936 -0.007067  0.016128   \n",
       "job        0.166402  1.000000 -0.012186  -0.088132 -0.002168 -0.015648   \n",
       "marital   -0.007715 -0.012186  1.000000   0.090907  0.049837 -0.026206   \n",
       "education -0.045936 -0.088132  0.090907   1.000000 -0.010534  0.011534   \n",
       "default   -0.007067 -0.002168  0.049837  -0.010534  1.000000 -0.022277   \n",
       "balance    0.016128 -0.015648 -0.026206   0.011534 -0.022277  1.000000   \n",
       "housing   -0.111345 -0.160040 -0.027397  -0.087070  0.006881  0.025923   \n",
       "loan      -0.002402  0.001375 -0.014321  -0.054086  0.063994 -0.016647   \n",
       "contact    0.050737  0.024281 -0.031768  -0.110384 -0.006654  0.018605   \n",
       "day        0.023363  0.005493  0.025010  -0.010523  0.010775 -0.007546   \n",
       "month      0.035760  0.067786 -0.009086   0.072546  0.013052 -0.012901   \n",
       "duration   0.026622 -0.020892  0.008537  -0.012168 -0.039377  0.139572   \n",
       "campaign  -0.010558 -0.036376 -0.021882   0.005049 -0.012759 -0.022156   \n",
       "pdays      0.036239  0.024443  0.009266   0.025968 -0.028827  0.078316   \n",
       "previous   0.012112  0.022966 -0.001322   0.027182 -0.028712 -0.001406   \n",
       "poutcome   0.045800  0.047513 -0.000989   0.045689 -0.031354  0.006034   \n",
       "y          0.065228  0.068978  0.061242   0.042987  0.001303  0.031489   \n",
       "\n",
       "            housing      loan   contact       day     month  duration  \\\n",
       "age       -0.111345 -0.002402  0.050737  0.023363  0.035760  0.026622   \n",
       "job       -0.160040  0.001375  0.024281  0.005493  0.067786 -0.020892   \n",
       "marital   -0.027397 -0.014321 -0.031768  0.025010 -0.009086  0.008537   \n",
       "education -0.087070 -0.054086 -0.110384 -0.010523  0.072546 -0.012168   \n",
       "default    0.006881  0.063994 -0.006654  0.010775  0.013052 -0.039377   \n",
       "balance    0.025923 -0.016647  0.018605 -0.007546 -0.012901  0.139572   \n",
       "housing    1.000000  0.018451  0.097917 -0.048346 -0.300032  0.020312   \n",
       "loan       0.018451  1.000000 -0.008376  0.049655  0.083930 -0.011070   \n",
       "contact    0.097917 -0.008376  1.000000 -0.004404 -0.250411  0.018738   \n",
       "day       -0.048346  0.049655 -0.004404  1.000000  0.092859  0.003150   \n",
       "month     -0.300032  0.083930 -0.250411  0.092859  1.000000 -0.027137   \n",
       "duration   0.020312 -0.011070  0.018738  0.003150 -0.027137  1.000000   \n",
       "campaign  -0.010403  0.006911  0.032347  0.049538  0.075482 -0.003781   \n",
       "pdays      0.055139 -0.020633 -0.132054 -0.028044 -0.020496  0.047104   \n",
       "previous   0.046341 -0.026135 -0.123530 -0.028344 -0.031291  0.004100   \n",
       "poutcome   0.006302 -0.053685 -0.149290 -0.018421  0.012942  0.007870   \n",
       "y         -0.104683 -0.070517 -0.082229  0.024205  0.042949  0.209623   \n",
       "\n",
       "           campaign     pdays  previous  poutcome         y  \n",
       "age       -0.010558  0.036239  0.012112  0.045800  0.065228  \n",
       "job       -0.036376  0.024443  0.022966  0.047513  0.068978  \n",
       "marital   -0.021882  0.009266 -0.001322 -0.000989  0.061242  \n",
       "education  0.005049  0.025968  0.027182  0.045689  0.042987  \n",
       "default   -0.012759 -0.028827 -0.028712 -0.031354  0.001303  \n",
       "balance   -0.022156  0.078316 -0.001406  0.006034  0.031489  \n",
       "housing   -0.010403  0.055139  0.046341  0.006302 -0.104683  \n",
       "loan       0.006911 -0.020633 -0.026135 -0.053685 -0.070517  \n",
       "contact    0.032347 -0.132054 -0.123530 -0.149290 -0.082229  \n",
       "day        0.049538 -0.028044 -0.028344 -0.018421  0.024205  \n",
       "month      0.075482 -0.020496 -0.031291  0.012942  0.042949  \n",
       "duration  -0.003781  0.047104  0.004100  0.007870  0.209623  \n",
       "campaign   1.000000 -0.083623 -0.071951 -0.095872 -0.065629  \n",
       "pdays     -0.083623  1.000000  0.565957  0.682979  0.122070  \n",
       "previous  -0.071951  0.565957  1.000000  0.677176  0.122405  \n",
       "poutcome  -0.095872  0.682979  0.677176  1.000000  0.246566  \n",
       "y         -0.065629  0.122070  0.122405  0.246566  1.000000  "
      ]
     },
     "execution_count": 7,
     "metadata": {},
     "output_type": "execute_result"
    }
   ],
   "source": [
    "corr = dataset.apply(lambda x : pd.factorize(x)[0]).corr(method='pearson', min_periods=1)\n",
    "corr"
   ]
  },
  {
   "cell_type": "markdown",
   "id": "174fecfe-6fc6-4679-bd81-98fe84f2cd46",
   "metadata": {},
   "source": [
    "Lets compare the age of the subscribers"
   ]
  },
  {
   "cell_type": "code",
   "execution_count": 15,
   "id": "ca4cfe59-b7a0-4a58-bd84-240ed914a295",
   "metadata": {},
   "outputs": [
    {
     "data": {
      "text/plain": [
       "67"
      ]
     },
     "execution_count": 15,
     "metadata": {},
     "output_type": "execute_result"
    },
    {
     "data": {
      "image/png": "[encoded data removed]",
      "text/plain": [
       "<Figure size 432x288 with 1 Axes>"
      ]
     },
     "metadata": {
      "needs_background": "light"
     },
     "output_type": "display_data"
    }
   ],
   "source": [
    "num_bins = dataset['age'].unique().size\n",
    "dataset['age'].plot.hist(grid=True, bins=num_bins, rwidth=0.9, color='#607c8e')\n",
    "plt.title('Age of subscribers and non-subscribers')\n",
    "plt.xlabel('Age')\n",
    "plt.ylabel('# of subscribers')\n",
    "plt.grid(axis='y', alpha=0.75)\n",
    "num_bins"
   ]
  },
  {
   "cell_type": "markdown",
   "id": "1b16eb3f-ab47-4c32-8496-7c5c6717d4cf",
   "metadata": {},
   "source": [
    "In the histogram above we can see that there is one customer age that is significantly more prevalent than others.\n",
    "\n",
    "Now we will visualize subscriber percentage by education level, marital status, occupation, and age:"
   ]
  },
  {
   "cell_type": "code",
   "execution_count": 116,
   "id": "c30849f7-565b-43ca-9253-c4d789f785cc",
   "metadata": {},
   "outputs": [
    {
     "data": {
      "image/png": "[encoded data removed]",
      "text/plain": [
       "<Figure size 432x288 with 1 Axes>"
      ]
     },
     "metadata": {
      "needs_background": "light"
     },
     "output_type": "display_data"
    }
   ],
   "source": [
    "### subscriber % by education level\n",
    "yn = dataset.groupby(['education', 'y']).size().reset_index(name='counts')\n",
    "yed = dataset.groupby(['education']).size().reset_index(name='counts')\n",
    "jed = yn.set_index('education').join(yed.set_index('education'), on='education', how='left', lsuffix='_caller', rsuffix='_other')\n",
    "jed = jed.assign(perc = (jed['counts_caller']/jed['counts_other']) * 100)\n",
    "jed = jed.round()\n",
    "jed = jed.sort_values('y', ascending=True).pivot(columns='y', values='perc')\n",
    "jed[['yes','no']].plot.barh(stacked=True, color=['Green','Red'], alpha=0.5)\n",
    "plt.title('Percentage of subscribers by education level')\n",
    "plt.ylabel('Education')\n",
    "plt.xlabel('% subscribed')\n",
    "plt.grid(alpha=0.75)\n"
   ]
  },
  {
   "cell_type": "code",
   "execution_count": 117,
   "id": "521909f5-ad8b-407c-85b4-00d0a3174825",
   "metadata": {},
   "outputs": [
    {
     "data": {
      "image/png": "[encoded data removed]",
      "text/plain": [
       "<Figure size 432x288 with 1 Axes>"
      ]
     },
     "metadata": {
      "needs_background": "light"
     },
     "output_type": "display_data"
    }
   ],
   "source": [
    "### subscriber % by marital status\n",
    "yn = dataset.groupby(['marital', 'y']).size().reset_index(name='counts')\n",
    "yed = dataset.groupby(['marital']).size().reset_index(name='counts')\n",
    "jed = yn.set_index('marital').join(yed.set_index('marital'), on='marital', how='left', lsuffix='_caller', rsuffix='_other')\n",
    "jed = jed.assign(perc = (jed['counts_caller']/jed['counts_other']) * 100)\n",
    "jed = jed.round()\n",
    "jed = jed.sort_values('y', ascending=True).pivot(columns='y', values='perc')\n",
    "jed[['yes','no']].plot.barh(stacked=True, color=['Green','Red'], alpha=0.5)\n",
    "plt.title('Percentage of subscribers by marital status')\n",
    "plt.ylabel('Marital status')\n",
    "plt.xlabel('% subscribed')\n",
    "plt.legend()\n",
    "plt.grid(alpha=0.75)"
   ]
  },
  {
   "cell_type": "code",
   "execution_count": 122,
   "id": "da5de789-e7a7-4a14-b305-fb228cdf3d69",
   "metadata": {},
   "outputs": [
    {
     "data": {
      "image/png": "[encoded data removed]",
      "text/plain": [
       "<Figure size 432x288 with 1 Axes>"
      ]
     },
     "metadata": {
      "needs_background": "light"
     },
     "output_type": "display_data"
    }
   ],
   "source": [
    "### subscriber by job type\n",
    "yn = dataset[['job','y']].groupby(['job','y']).size().reset_index(name='counts')\n",
    "yed = dataset.groupby(['job']).size().reset_index(name='counts')\n",
    "jed = yn.set_index('job').join(yed.set_index('job'), on='job', how='left', lsuffix='_caller', rsuffix='_other')\n",
    "jed = jed.assign(perc = (jed['counts_caller']/jed['counts_other']) * 100)\n",
    "jed = jed.round()\n",
    "jed = jed.sort_values('y', ascending=True).pivot(columns='y', values='perc')\n",
    "jed[['yes','no']].plot.barh(stacked=True, color=['Green','Red'], alpha=0.5)\n",
    "plt.title('Percentage of subscribers by occupation')\n",
    "plt.ylabel('occupation')\n",
    "plt.xlabel('% subscribed')\n",
    "plt.legend()\n",
    "plt.grid(alpha=0.75)"
   ]
  },
  {
   "cell_type": "code",
   "execution_count": 141,
   "id": "659e9693-c56f-4bd5-a684-9c41736b4b21",
   "metadata": {},
   "outputs": [
    {
     "data": {
      "image/png": "[encoded data removed]",
      "text/plain": [
       "<Figure size 432x288 with 1 Axes>"
      ]
     },
     "metadata": {
      "needs_background": "light"
     },
     "output_type": "display_data"
    }
   ],
   "source": [
    "### subscriber by age\n",
    "yn = dataset[['age','y']].groupby(['age','y']).size().reset_index(name='counts')\n",
    "yed = dataset.groupby(['age']).size().reset_index(name='counts')\n",
    "jed = yn.set_index('age').join(yed.set_index('age'), on='age', how='left', lsuffix='_caller', rsuffix='_other')\n",
    "jed = jed.assign(perc = (jed['counts_caller']/jed['counts_other']) * 100)\n",
    "jed = jed.round()\n",
    "jed = jed.sort_values('y', ascending=True).pivot(columns='y', values='perc')\n",
    "jed[['yes','no']].plot.bar(color=['Green','Red'], alpha=0.5)\n",
    "plt.title('Percentage of subscribers by age')\n",
    "plt.ylabel('age')\n",
    "plt.xlabel('% subscribed')\n",
    "plt.legend()\n",
    "plt.xticks([-9,1,11,21,31,41,51,61,71])\n",
    "plt.grid(alpha=0.75)"
   ]
  },
  {
   "cell_type": "markdown",
   "id": "da8de48c-d3a7-4ef0-bf83-4cfa07a85268",
   "metadata": {},
   "source": [
    "Upon completing the intial exploratory data analysis, I uploaded the dataset to H2O to run it through a GBM model. The model was trained on eight of the columns in the dataset: age, job, marital, education, default, balance, housing, loan"
   ]
  },
  {
   "cell_type": "code",
   "execution_count": null,
   "id": "d0756c1f-5817-4b68-9702-f31e5973dccf",
   "metadata": {},
   "outputs": [],
   "source": [
    "table_name <- in_schema(database, 'bank_marketing_data')\n",
    "table <- tbl(con, table_name)\n",
    "\n",
    "bank <- table %>% select(c('age', 'job', 'marital', 'education', 'default', 'balance', 'housing', 'loan', 'y')) %>% as.data.frame()\n",
    "\n",
    "bank$age <- as.integer(bank$age)\n",
    "bank$job <- as.factor(bank$job)\n",
    "bank$marital <- as.factor(bank$marital)\n",
    "bank$education <- as.factor(bank$education)\n",
    "bank$default <- as.factor(bank$default)\n",
    "bank$balance <- as.integer(bank$balance)\n",
    "bank$housing <- as.factor(bank$housing)\n",
    "bank$loan <- as.factor(bank$loan)\n",
    "bank$y <- as.factor(bank$y)\n",
    "str(bank)"
   ]
  },
  {
   "cell_type": "code",
   "execution_count": 142,
   "id": "d28d7536-7a61-48f4-878e-ad11d1a602e1",
   "metadata": {},
   "outputs": [
    {
     "ename": "TypeError",
     "evalue": "select() takes 2 positional arguments but 10 were given",
     "output_type": "error",
     "traceback": [
      "\u001b[0;31m---------------------------------------------------------------------------\u001b[0m",
      "\u001b[0;31mTypeError\u001b[0m                                 Traceback (most recent call last)",
      "\u001b[0;32m<ipython-input-142-8441b0e2304e>\u001b[0m in \u001b[0;36m<module>\u001b[0;34m\u001b[0m\n\u001b[0;32m----> 1\u001b[0;31m \u001b[0mdataset\u001b[0m \u001b[0;34m=\u001b[0m \u001b[0mDataFrame\u001b[0m\u001b[0;34m(\u001b[0m\u001b[0;34m\"bank_marketing_data\"\u001b[0m\u001b[0;34m)\u001b[0m\u001b[0;34m.\u001b[0m\u001b[0mselect\u001b[0m\u001b[0;34m(\u001b[0m\u001b[0;34m'age'\u001b[0m\u001b[0;34m,\u001b[0m \u001b[0;34m'job'\u001b[0m\u001b[0;34m,\u001b[0m \u001b[0;34m'marital'\u001b[0m\u001b[0;34m,\u001b[0m \u001b[0;34m'education'\u001b[0m\u001b[0;34m,\u001b[0m \u001b[0;34m'default'\u001b[0m\u001b[0;34m,\u001b[0m \u001b[0;34m'balance'\u001b[0m\u001b[0;34m,\u001b[0m \u001b[0;34m'housing'\u001b[0m\u001b[0;34m,\u001b[0m \u001b[0;34m'loan'\u001b[0m\u001b[0;34m,\u001b[0m \u001b[0;34m'y'\u001b[0m\u001b[0;34m)\u001b[0m\u001b[0;34m\u001b[0m\u001b[0;34m\u001b[0m\u001b[0m\n\u001b[0m\u001b[1;32m      2\u001b[0m \u001b[0mdataset\u001b[0m\u001b[0;34m.\u001b[0m\u001b[0mhead\u001b[0m\u001b[0;34m(\u001b[0m\u001b[0;34m)\u001b[0m\u001b[0;34m\u001b[0m\u001b[0;34m\u001b[0m\u001b[0m\n",
      "\u001b[0;31mTypeError\u001b[0m: select() takes 2 positional arguments but 10 were given"
     ]
    }
   ],
   "source": [
    "dataset = DataFrame(\"bank_marketing_data\").select('age', 'job', 'marital', 'education', 'default', 'balance', 'housing', 'loan', 'y')\n",
    "dataset.head()"
   ]
  },
  {
   "cell_type": "code",
   "execution_count": null,
   "id": "fcc94c17-a3c0-4b91-9fdf-4835cebfc1b2",
   "metadata": {},
   "outputs": [],
   "source": [
    "summary(bank)"
   ]
  },
  {
   "cell_type": "markdown",
   "id": "ba37be00-dd25-4b96-8d7c-dddb2f0a3cc7",
   "metadata": {},
   "source": [
    "Now we must initialize h2o and prepare the training dataset"
   ]
  },
  {
   "cell_type": "code",
   "execution_count": null,
   "id": "863816c3-2c01-4b8c-b3a4-1f892b663046",
   "metadata": {},
   "outputs": [],
   "source": [
    "h2o.init(nthreads = -1)\n",
    "train_df <- as.h2o(bank)"
   ]
  },
  {
   "cell_type": "markdown",
   "id": "250122bb-e0a5-49d9-b4b4-6b3e8bbff480",
   "metadata": {},
   "source": [
    "We split the training dataset"
   ]
  },
  {
   "cell_type": "code",
   "execution_count": null,
   "id": "9af05a1a-ed21-4354-9ab7-63d659ef00f8",
   "metadata": {},
   "outputs": [],
   "source": [
    "splits <- h2o.splitFrame(train_df, 0.75, seed=1234)\n",
    "train <- splits[[1]]\n",
    "test <- splits[[2]]"
   ]
  },
  {
   "cell_type": "markdown",
   "id": "7f755899-82c3-4ce5-999b-8f4cc2d7678f",
   "metadata": {},
   "source": [
    "Identify predictors and response"
   ]
  },
  {
   "cell_type": "code",
   "execution_count": null,
   "id": "53b68c0d-057e-4025-bc3f-be3422f93df0",
   "metadata": {},
   "outputs": [],
   "source": [
    "y <- \"y\"\n",
    "x <- setdiff(names(train), y)"
   ]
  },
  {
   "cell_type": "code",
   "execution_count": null,
   "id": "8d22a096-874e-4e0a-83fc-943a01dd0bdc",
   "metadata": {},
   "outputs": [],
   "source": [
    "# Run AutoML for 20 base models\n",
    "aml <- h2o.automl(x = x, y = y,\n",
    "                  training_frame = train,\n",
    "                  max_models = 20,\n",
    "                  seed = 1)"
   ]
  },
  {
   "cell_type": "code",
   "execution_count": null,
   "id": "c95103e9-3dfe-45b8-817d-485d7d917300",
   "metadata": {},
   "outputs": [],
   "source": [
    "# View the AutoML Leaderboard\n",
    "lb <- aml@leaderboard\n",
    "print(lb, n = nrow(lb))  # Print all rows instead of default (6 rows)"
   ]
  },
  {
   "cell_type": "code",
   "execution_count": null,
   "id": "f9b297d7-b7fd-4c8e-9644-c0822b1d7c7d",
   "metadata": {},
   "outputs": [],
   "source": [
    "aml@leader"
   ]
  },
  {
   "cell_type": "markdown",
   "id": "444ec17c-721e-4aa2-9f61-0ed7f8d5752a",
   "metadata": {},
   "source": [
    "We initally train with 50 ntrees, 2 max depth and 2 min rows. Then we evaluate the predictions with the other split."
   ]
  },
  {
   "cell_type": "code",
   "execution_count": null,
   "id": "2ea6605b-e884-4597-9751-f8c00e5ec98c",
   "metadata": {},
   "outputs": [],
   "source": [
    "pred <- h2o.predict(aml@leader, test)"
   ]
  },
  {
   "cell_type": "code",
   "execution_count": null,
   "id": "e273b91e-9331-4013-a59a-5c593af188b8",
   "metadata": {},
   "outputs": [],
   "source": [
    "# Eval performance:\n",
    "perf <- h2o.performance(aml@leader)\n",
    "perf"
   ]
  },
  {
   "cell_type": "code",
   "execution_count": null,
   "id": "056d7299-6fd3-4184-8b26-6a4d01d43982",
   "metadata": {},
   "outputs": [],
   "source": [
    "# Extract feature interactions:\n",
    "feature_interactions <- h2o.feature_interaction(aml@leader)\n",
    "feature_interactions"
   ]
  },
  {
   "cell_type": "code",
   "execution_count": null,
   "id": "0a2fff3f-9ef3-4c4c-87dc-c906cf01885d",
   "metadata": {},
   "outputs": [],
   "source": [
    "model <- h2o.gbm(x = c(1:8), y = 9, training_frame = splits[[1]], categorical_encoding = 'auto', ntrees = 50, max_depth = 2, min_rows = 2, learn_rate = 0.1)\n",
    "pred <- h2o.predict(model, test)"
   ]
  },
  {
   "cell_type": "code",
   "execution_count": null,
   "id": "bb2fe6a2-6565-48f3-84b6-7106d2115bc5",
   "metadata": {},
   "outputs": [],
   "source": [
    "# Eval performance:\n",
    "perf <- h2o.performance(model)\n",
    "perf"
   ]
  },
  {
   "cell_type": "code",
   "execution_count": null,
   "id": "201b20bd-dc52-4527-985e-a2a58c5ab10c",
   "metadata": {},
   "outputs": [],
   "source": [
    "# Extract feature interactions:\n",
    "feature_interactions <- h2o.feature_interaction(model)\n",
    "feature_interactions"
   ]
  },
  {
   "cell_type": "markdown",
   "id": "2ee17d94-4c2d-494d-93c8-e3f9dcd5c6e3",
   "metadata": {},
   "source": [
    "The h2o.predict function outputs a data frame with “no” and “yes” prediction columns with the percentage and the prediction column. With this dataframe we can get the accurracy of our model with a confusion matrix."
   ]
  },
  {
   "cell_type": "code",
   "execution_count": null,
   "id": "d4026c08-b45e-4ecb-8805-7bb7c4a1f32b",
   "metadata": {},
   "outputs": [],
   "source": [
    "tester <- as.data.frame(splits[[2]])\n",
    "pred_df <- as.data.frame(pred)\n",
    "\n",
    "library(caret)\n",
    "confusionMatrix(tester$y, pred_df$predict)"
   ]
  },
  {
   "cell_type": "markdown",
   "id": "9c5e98ec-c8fd-4a1a-9b61-7d73fd481c91",
   "metadata": {},
   "source": [
    "In our first training the accuracy is 0,78 so we will try with other hyperparameters to find a better result.\n",
    "\n",
    "Let's try with a setting of ntrees = 100, max_depth = 5 and min_rows = 3."
   ]
  },
  {
   "cell_type": "code",
   "execution_count": null,
   "id": "e847d483-4428-4bad-b640-7c2fc1f8d0fc",
   "metadata": {},
   "outputs": [],
   "source": [
    "model <- h2o.gbm(x = c(1:8), y = 9, training_frame = splits[[1]], categorical_encoding = 'auto', ntrees = 100, max_depth = 5, min_rows = 3, learn_rate = 0.1)\n",
    "pred <- h2o.predict(model, splits[[2]])"
   ]
  },
  {
   "cell_type": "code",
   "execution_count": null,
   "id": "99af3460-7659-45b5-8494-e56da1561d93",
   "metadata": {},
   "outputs": [],
   "source": [
    "# Eval performance:\n",
    "perf <- h2o.performance(model)\n",
    "perf"
   ]
  },
  {
   "cell_type": "code",
   "execution_count": null,
   "id": "3d2362f0-7c6f-4674-a950-71b8e8acffdc",
   "metadata": {},
   "outputs": [],
   "source": [
    "pred_df <- as.data.frame(pred)\n",
    "confusionMatrix(tester$y, pred_df$predict)"
   ]
  },
  {
   "cell_type": "markdown",
   "id": "e33250f6-64b7-43a3-930c-b735d132eb1a",
   "metadata": {},
   "source": [
    "The accuracy has increased significantly. Let's try now with a setting of ntrees = 200, max_depth = 10 and min_rows = 5."
   ]
  },
  {
   "cell_type": "code",
   "execution_count": null,
   "id": "26b4b2d9-8353-418e-9ed9-518f5abee04a",
   "metadata": {},
   "outputs": [],
   "source": [
    "model <- h2o.gbm(x = c(1:8), y = 9, training_frame = splits[[1]], categorical_encoding = 'auto', ntrees = 200, max_depth = 10, min_rows = 5, learn_rate = 0.1)\n",
    "pred <- h2o.predict(model, splits[[2]])"
   ]
  },
  {
   "cell_type": "code",
   "execution_count": null,
   "id": "b7a60f5e-d51d-4a95-a130-9445e5ccd2d5",
   "metadata": {},
   "outputs": [],
   "source": [
    "# Eval performance:\n",
    "perf <- h2o.performance(model)\n",
    "perf"
   ]
  },
  {
   "cell_type": "code",
   "execution_count": null,
   "id": "af8cf66a-d2c9-48d9-89bf-7405173405ef",
   "metadata": {},
   "outputs": [],
   "source": [
    "pred_df <- as.data.frame(pred)\n",
    "library(caret)\n",
    "cm <- confusionMatrix(table(pred_df$predict, tester$y))\n",
    "cm\n",
    "fourfoldplot(cm$table)\n",
    "#png(\"artifacts/output/confusion_matrix.png\", width = 860, height = 860)"
   ]
  },
  {
   "cell_type": "code",
   "execution_count": null,
   "id": "54a61e88-dfec-4004-8109-f6609843095a",
   "metadata": {},
   "outputs": [],
   "source": [
    "cm$overall"
   ]
  },
  {
   "cell_type": "markdown",
   "id": "6292cd9e-cb60-49c1-a2ec-2097aea4c4fc",
   "metadata": {},
   "source": [
    "In these examples, the model accuracy has improved greatly, with the true positive rate more than doubling and the overall accuracy rising from 78.04 percent to 85.33 percent"
   ]
  },
  {
   "cell_type": "code",
   "execution_count": null,
   "id": "8d793ccd-7737-49c7-984f-833130333cd0",
   "metadata": {},
   "outputs": [],
   "source": [
    "dfx <- data.frame (age  = c(\"32\"),\n",
    "                   job = c(\"blue-collar\"),\n",
    "                   marital = c(\"married\"),\n",
    "                   education  = c(\"tertiary\"),\n",
    "                   default  = c(\"no\"),\n",
    "                   balance  = c(\"5883\"),\n",
    "                   housing  = c(\"yes\"),\n",
    "                   loan  = c(\"yes\")\n",
    "                  )\n",
    "data <-   dfx  \n",
    "data$age <- as.integer(data$age)\n",
    "    data$job <- as.factor(data$job)\n",
    "    data$marital <- as.factor(data$marital)\n",
    "    data$education <- as.factor(data$education)\n",
    "    data$default <- as.factor(data$default)\n",
    "    data$balance <- as.integer(data$balance)\n",
    "    data$housing <- as.factor(data$housing)\n",
    "    data$loan <- as.factor(data$loan)\n",
    "data"
   ]
  },
  {
   "cell_type": "code",
   "execution_count": null,
   "id": "63082382-c568-4e51-b097-c5ee5320dbad",
   "metadata": {},
   "outputs": [],
   "source": [
    "data_df <- as.h2o(data)\n",
    "score <- h2o.predict(model, data_df)\n",
    "print(score)\n",
    "score_df <- as.data.frame(score)\n",
    "print(score_df)\n",
    "score_df"
   ]
  },
  {
   "cell_type": "code",
   "execution_count": null,
   "id": "ae0b03bd-440a-4240-8cc9-fff243d3542f",
   "metadata": {},
   "outputs": [],
   "source": []
  }
 ],
 "metadata": {
  "kernelspec": {
   "display_name": "Python 3",
   "language": "python",
   "name": "python3"
  },
  "language_info": {
   "codemirror_mode": {
    "name": "ipython",
    "version": 3
   },
   "file_extension": ".py",
   "mimetype": "text/x-python",
   "name": "python",
   "nbconvert_exporter": "python",
   "pygments_lexer": "ipython3",
   "version": "3.9.2"
  }
 },
 "nbformat": 4,
 "nbformat_minor": 5
}

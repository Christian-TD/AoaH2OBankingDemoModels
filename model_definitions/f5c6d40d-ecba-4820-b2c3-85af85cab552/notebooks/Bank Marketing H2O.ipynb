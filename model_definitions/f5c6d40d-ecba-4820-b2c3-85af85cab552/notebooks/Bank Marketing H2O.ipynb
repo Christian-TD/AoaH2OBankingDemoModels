{
 "cells": [
  {
   "cell_type": "markdown",
   "id": "f5455c47-44e9-441d-b705-a839ced32058",
   "metadata": {},
   "source": [
    "Install and load required packages"
   ]
  },
  {
   "cell_type": "code",
   "execution_count": 1,
   "id": "2d51cbac-0dee-4044-9435-83976dce5d27",
   "metadata": {},
   "outputs": [
    {
     "name": "stderr",
     "output_type": "stream",
     "text": [
      "Loading required package: h2o\n",
      "\n",
      "\n",
      "----------------------------------------------------------------------\n",
      "\n",
      "Your next step is to start H2O:\n",
      "    > h2o.init()\n",
      "\n",
      "For H2O package documentation, ask for help:\n",
      "    > ??h2o\n",
      "\n",
      "After starting H2O, you can use the Web UI at http://localhost:54321\n",
      "For more information visit https://docs.h2o.ai\n",
      "\n",
      "----------------------------------------------------------------------\n",
      "\n",
      "\n",
      "\n",
      "Attaching package: ‘h2o’\n",
      "\n",
      "\n",
      "The following objects are masked from ‘package:stats’:\n",
      "\n",
      "    cor, sd, var\n",
      "\n",
      "\n",
      "The following objects are masked from ‘package:base’:\n",
      "\n",
      "    &&, %*%, %in%, ||, apply, as.factor, as.numeric, colnames,\n",
      "    colnames<-, ifelse, is.character, is.factor, is.numeric, log,\n",
      "    log10, log1p, log2, round, signif, trunc\n",
      "\n",
      "\n",
      "Loading required package: h2o4gpu\n",
      "\n",
      "\n",
      "Attaching package: ‘h2o4gpu’\n",
      "\n",
      "\n",
      "The following object is masked from ‘package:base’:\n",
      "\n",
      "    transform\n",
      "\n",
      "\n",
      "Loading required package: getPass\n",
      "\n"
     ]
    }
   ],
   "source": [
    "if(!require('h2o')){install.packages('h2o')}\n",
    "if(!require('h2o4gpu')){install.packages('h2o4gpu')}\n",
    "if(!require('getPass')){install.packages('getPass')}"
   ]
  },
  {
   "cell_type": "code",
   "execution_count": 14,
   "id": "91ce2a01-6e94-451e-82ed-874577bb52b4",
   "metadata": {},
   "outputs": [
    {
     "name": "stderr",
     "output_type": "stream",
     "text": [
      "\n",
      "Attaching package: ‘dbplyr’\n",
      "\n",
      "\n",
      "The following objects are masked from ‘package:dplyr’:\n",
      "\n",
      "    ident, sql\n",
      "\n",
      "\n"
     ]
    }
   ],
   "source": [
    "library('tidyverse')\n",
    "library('caret')\n",
    "library(\"DBI\")\n",
    "library('dplyr')\n",
    "library('dbplyr')\n",
    "library('tdplyr')"
   ]
  },
  {
   "cell_type": "markdown",
   "id": "bd6650d9-dca9-4c67-88e9-de4d689cd670",
   "metadata": {},
   "source": [
    "Replace your cluster details for your user, password, host and database."
   ]
  },
  {
   "cell_type": "code",
   "execution_count": 3,
   "id": "af3e4f52-288e-43cb-994b-c5e86206fd90",
   "metadata": {},
   "outputs": [
    {
     "name": "stdin",
     "output_type": "stream",
     "text": [
      "Enter the password:  ··········\n"
     ]
    }
   ],
   "source": [
    "host <- \"3.238.151.85\"\n",
    "user <- \"AOA_DEMO\"\n",
    "database <- \"AOA_DEMO\"\n",
    "password <- getPass::getPass(\"Enter the password: \")\n",
    "params <- sprintf(\"{\\\"host\\\":\\\"%s\\\",\\\"user\\\":\\\"%s\\\",\\\"password\\\":\\\"%s\\\",\\\"database\\\":\\\"%s\\\"}\", host, user, password, database)\n",
    "con <- DBI::dbConnect(teradatasql::TeradataDriver(), paste0(params)) "
   ]
  },
  {
   "cell_type": "markdown",
   "id": "45f237dd-dfc6-4a81-876d-761448974737",
   "metadata": {},
   "source": [
    "Load the dataset"
   ]
  },
  {
   "cell_type": "code",
   "execution_count": 4,
   "id": "5121fdb0-2d12-4e92-83cf-5384d09125d9",
   "metadata": {},
   "outputs": [],
   "source": [
    "bank <- DBI::dbGetQuery(con, \"select * from bank_marketing_data\")\n",
    "bank$job <- as.factor(bank$job)\n",
    "bank$marital <- as.factor(bank$marital)\n",
    "bank$education <- as.factor(bank$education)\n",
    "bank$default <- as.factor(bank$default)\n",
    "bank$balance <- as.integer(bank$balance)\n",
    "bank$housing <- as.factor(bank$housing)\n",
    "bank$loan <- as.factor(bank$loan)\n",
    "bank$contact <- as.factor(bank$contact)\n",
    "bank$day <- as.integer(bank$day)\n",
    "bank$month <- as.factor(bank$month)\n",
    "bank$pdays <- as.integer(bank$pdays)\n",
    "bank$poutcome <- as.factor(bank$poutcome)\n",
    "bank$y <- as.factor(bank$y)"
   ]
  },
  {
   "cell_type": "markdown",
   "id": "8449de8c-fc58-41b0-bee3-726d854725e9",
   "metadata": {},
   "source": [
    "Let's inspect the dataset"
   ]
  },
  {
   "cell_type": "code",
   "execution_count": 5,
   "id": "1e2b54b5-d33e-46e6-aa70-de9bd15ccf00",
   "metadata": {},
   "outputs": [
    {
     "name": "stdout",
     "output_type": "stream",
     "text": [
      "'data.frame':\t4521 obs. of  17 variables:\n",
      " $ age      : int  30 33 35 30 59 35 36 39 41 43 ...\n",
      " $ job      : Factor w/ 12 levels \"admin.\",\"blue-collar\",..: 11 8 5 5 2 5 7 10 3 8 ...\n",
      " $ marital  : Factor w/ 3 levels \"divorced\",\"married\",..: 2 2 3 2 2 3 2 2 2 2 ...\n",
      " $ education: Factor w/ 4 levels \"primary\",\"secondary\",..: 1 2 3 3 2 3 3 2 3 1 ...\n",
      " $ default  : Factor w/ 2 levels \"no\",\"yes\": 1 1 1 1 1 1 1 1 1 1 ...\n",
      " $ balance  : int  1787 4789 1350 1476 0 747 307 147 221 -88 ...\n",
      " $ housing  : Factor w/ 2 levels \"no\",\"yes\": 1 2 2 2 2 1 2 2 2 2 ...\n",
      " $ loan     : Factor w/ 2 levels \"no\",\"yes\": 1 2 1 2 1 1 1 1 1 2 ...\n",
      " $ contact  : Factor w/ 3 levels \"cellular\",\"telephone\",..: 1 1 1 3 3 1 1 1 3 1 ...\n",
      " $ day      : int  19 11 16 3 5 23 14 6 14 17 ...\n",
      " $ month    : Factor w/ 12 levels \"apr\",\"aug\",\"dec\",..: 11 9 1 7 9 4 9 9 9 1 ...\n",
      " $ duration : int  79 220 185 199 226 141 341 151 57 313 ...\n",
      " $ campaign : int  1 1 1 4 1 2 1 2 2 1 ...\n",
      " $ pdays    : int  -1 339 330 -1 -1 176 330 -1 -1 147 ...\n",
      " $ previous : int  0 4 1 0 0 3 2 0 0 2 ...\n",
      " $ poutcome : Factor w/ 4 levels \"failure\",\"other\",..: 4 1 1 4 4 1 2 4 4 1 ...\n",
      " $ y        : Factor w/ 2 levels \"no\",\"yes\": 1 1 1 1 1 1 1 1 1 1 ...\n"
     ]
    }
   ],
   "source": [
    "str(bank)"
   ]
  },
  {
   "cell_type": "markdown",
   "id": "a9ae3f18-4ed7-4b9e-9235-c673ab4d28ab",
   "metadata": {},
   "source": [
    "Check for NA values"
   ]
  },
  {
   "cell_type": "code",
   "execution_count": 6,
   "id": "2cee558a-625b-4e4b-b1d3-13164b18a26e",
   "metadata": {},
   "outputs": [
    {
     "data": {
      "text/plain": [
       "\n",
       "FALSE \n",
       "76857 "
      ]
     },
     "metadata": {},
     "output_type": "display_data"
    }
   ],
   "source": [
    "table(is.na(bank))"
   ]
  },
  {
   "cell_type": "markdown",
   "id": "174fecfe-6fc6-4679-bd81-98fe84f2cd46",
   "metadata": {},
   "source": [
    "Find the number of unique ages to choose histogram bin number"
   ]
  },
  {
   "cell_type": "code",
   "execution_count": 7,
   "id": "6b38e3de-dab9-4d25-b633-d1963479135c",
   "metadata": {},
   "outputs": [
    {
     "data": {
      "image/png": "[encoded data removed]",
      "text/plain": [
       "plot without title"
      ]
     },
     "metadata": {
      "image/png": {
       "height": 420,
       "width": 420
      }
     },
     "output_type": "display_data"
    }
   ],
   "source": [
    "binnum <- length(unique(bank$age))\n",
    "\n",
    "ggplot(bank, aes(age, fill = y)) + \n",
    "  geom_histogram(bins = binnum) + \n",
    "  ggtitle(\"Age of subscribers and non-subscribers\") +\n",
    "  xlab(\"Age\") + \n",
    "  ylab(\"# of subscribers\") +\n",
    "  theme_bw() +\n",
    "  scale_fill_brewer(palette=\"Set2\") +\n",
    "  theme(legend.title=element_blank())"
   ]
  },
  {
   "cell_type": "markdown",
   "id": "1b16eb3f-ab47-4c32-8496-7c5c6717d4cf",
   "metadata": {},
   "source": [
    "In the histogram above we can see that there is one customer age that is significantly more prevalent than others.\n",
    "\n",
    "Now I will visualize subscriber percentage by education level, marital status, occupation, and age:"
   ]
  },
  {
   "cell_type": "code",
   "execution_count": 8,
   "id": "f18d9f80-6b8d-4824-a443-46fb8c197ac8",
   "metadata": {},
   "outputs": [
    {
     "name": "stderr",
     "output_type": "stream",
     "text": [
      "`summarise()` has grouped output by 'education'. You can override using the `.groups` argument.\n",
      "\n"
     ]
    },
    {
     "data": {
      "image/png": "[encoded data removed]",
      "text/plain": [
       "plot without title"
      ]
     },
     "metadata": {
      "image/png": {
       "height": 420,
       "width": 420
      }
     },
     "output_type": "display_data"
    }
   ],
   "source": [
    "### subscriber % by education\n",
    "yn <- bank %>% group_by(education, y) %>% summarise(n = n())\n",
    "yed <- bank %>% group_by(education) %>% summarise(n = n())\n",
    "jed <- left_join(yn, yed, by = \"education\")\n",
    "jed <- jed %>% mutate(perc = round((n.x / n.y) * 100, digits = 0))\n",
    "\n",
    "ggplot(jed, aes(x = education, y = perc, fill = y, label = perc)) + \n",
    "  geom_bar(stat = \"identity\", alpha = 0.7) + \n",
    "  geom_text(position = \"stack\", size = 6) + \n",
    "  ggtitle(\"Percentage of subscribers by education level\") + \n",
    "  xlab(\"\") +\n",
    "  ylab(\"% subscribed\") +\n",
    "  scale_fill_brewer(palette=\"Set3\") +\n",
    "  theme_bw() +\n",
    "  theme(legend.title=element_blank()) +\n",
    "  coord_flip()"
   ]
  },
  {
   "cell_type": "code",
   "execution_count": 9,
   "id": "e43fde11-535d-4058-80de-4abf716fa446",
   "metadata": {},
   "outputs": [
    {
     "name": "stderr",
     "output_type": "stream",
     "text": [
      "`summarise()` has grouped output by 'marital'. You can override using the `.groups` argument.\n",
      "\n"
     ]
    },
    {
     "data": {
      "image/png": "[encoded data removed]",
      "text/plain": [
       "plot without title"
      ]
     },
     "metadata": {
      "image/png": {
       "height": 420,
       "width": 420
      }
     },
     "output_type": "display_data"
    }
   ],
   "source": [
    "### subscriber % by marital status\n",
    "mar <- bank %>% group_by(marital, y) %>% summarise(n = n())\n",
    "ymar <- bank %>% group_by(marital) %>% summarise(n = n())\n",
    "jmar <- left_join(mar, ymar, by = \"marital\")\n",
    "jmar <- jmar %>% mutate(perc = round((n.x / n.y) * 100, digits = 0))\n",
    "\n",
    "ggplot(jmar, aes(x = marital, y = perc, fill = y, label = perc)) + \n",
    "  geom_bar(stat = \"identity\", alpha = 0.7) + \n",
    "  geom_text(position = \"stack\", size = 6)  + \n",
    "  scale_fill_brewer(palette=\"Spectral\") +\n",
    "  ggtitle(\"Percentage of subscribers by marital status\") +\n",
    "  xlab(\"\") +\n",
    "  ylab(\"% subscribed\") +\n",
    "  theme_bw() +\n",
    "  theme(legend.title=element_blank())+\n",
    "  coord_flip()"
   ]
  },
  {
   "cell_type": "code",
   "execution_count": 10,
   "id": "19fbb072-0fed-460f-8785-d047043f3064",
   "metadata": {},
   "outputs": [
    {
     "data": {
      "image/png": "[encoded data removed]",
      "text/plain": [
       "plot without title"
      ]
     },
     "metadata": {
      "image/png": {
       "height": 420,
       "width": 420
      }
     },
     "output_type": "display_data"
    }
   ],
   "source": [
    "### subscribed by job type\n",
    "ageout <- data.frame(table(bank$job, bank$y))\n",
    "colnames(ageout) <- c(\"job\", \"y\", \"Freq\")\n",
    "jobs <- bank %>% group_by(job) %>% summarise(n = n())\n",
    "aj <- left_join(ageout, jobs, by = \"job\")\n",
    "aj <- aj %>% mutate(perc = round((Freq / n) * 100, digits = 0))\n",
    "\n",
    "ggplot(aj, aes(x = job, y = perc, fill = y, label = perc)) + \n",
    "  geom_bar(stat = \"identity\", alpha = 0.7) + \n",
    "  geom_text(position = \"stack\", size = 6)  + \n",
    "  scale_fill_brewer(palette=\"Set2\") +\n",
    "  ggtitle(\"Percentage of subscribers by occupation\") +\n",
    "  xlab(\"\") +\n",
    "  ylab(\"% subscribed\") +\n",
    "  theme_bw() +\n",
    "  theme(legend.title=element_blank())+\n",
    "  coord_flip()"
   ]
  },
  {
   "cell_type": "code",
   "execution_count": 11,
   "id": "40843533-1acb-4afc-8cf9-9bcb3dffaf91",
   "metadata": {},
   "outputs": [
    {
     "name": "stderr",
     "output_type": "stream",
     "text": [
      "`summarise()` has grouped output by 'age'. You can override using the `.groups` argument.\n",
      "\n"
     ]
    },
    {
     "data": {
      "image/png": "[encoded data removed]",
      "text/plain": [
       "plot without title"
      ]
     },
     "metadata": {
      "image/png": {
       "height": 420,
       "width": 420
      }
     },
     "output_type": "display_data"
    }
   ],
   "source": [
    "### subscriber by age\n",
    "age <- bank %>% group_by(age, y) %>% summarise(n = n())\n",
    "yage <- bank %>% group_by(age) %>% summarise(n = n())\n",
    "jage <- left_join(age, yage, by = \"age\")\n",
    "jage <- jage %>% mutate(perc = round((n.x / n.y) * 100, digits = 1))\n",
    "\n",
    "ggplot(jage, aes(x = age, y = perc, fill = y, label = perc)) + \n",
    "  geom_bar(stat = \"identity\", position = \"dodge\", alpha = 0.6) + \n",
    "  scale_fill_brewer(palette=\"Paired\") +\n",
    "  ggtitle(\"Percentage of subscribers by age\") +\n",
    "  xlab(\"Age\") +\n",
    "  ylab(\"% subscribed\") +\n",
    "  theme_bw() +\n",
    "  theme(legend.title=element_blank())"
   ]
  },
  {
   "cell_type": "markdown",
   "id": "da8de48c-d3a7-4ef0-bf83-4cfa07a85268",
   "metadata": {},
   "source": [
    "Upon completing the intial exploratory data analysis, I uploaded the dataset to H2O to run it through a GBM model. The model was trained on eight of the columns in the dataset: age, job, marital, education, default, balance, housing, loan"
   ]
  },
  {
   "cell_type": "code",
   "execution_count": 12,
   "id": "12baf13a-ef65-4cbd-853e-8cec3c3f78ee",
   "metadata": {},
   "outputs": [],
   "source": [
    "# Create Vantage connection using tdplyr\n",
    "con <- td_create_context(host = host,\n",
    "                         uid = user,\n",
    "                         pwd = password,\n",
    "                         dType = 'native'\n",
    ")\n",
    "\n",
    "# Set connection context\n",
    "td_set_context(con)"
   ]
  },
  {
   "cell_type": "code",
   "execution_count": 15,
   "id": "d0756c1f-5817-4b68-9702-f31e5973dccf",
   "metadata": {},
   "outputs": [
    {
     "name": "stdout",
     "output_type": "stream",
     "text": [
      "'data.frame':\t4521 obs. of  9 variables:\n",
      " $ age      : int  30 33 35 30 59 35 36 39 41 43 ...\n",
      " $ job      : Factor w/ 12 levels \"admin.\",\"blue-collar\",..: 11 8 5 5 2 5 7 10 3 8 ...\n",
      " $ marital  : Factor w/ 3 levels \"divorced\",\"married\",..: 2 2 3 2 2 3 2 2 2 2 ...\n",
      " $ education: Factor w/ 4 levels \"primary\",\"secondary\",..: 1 2 3 3 2 3 3 2 3 1 ...\n",
      " $ default  : Factor w/ 2 levels \"no\",\"yes\": 1 1 1 1 1 1 1 1 1 1 ...\n",
      " $ balance  : int  1787 4789 1350 1476 0 747 307 147 221 -88 ...\n",
      " $ housing  : Factor w/ 2 levels \"no\",\"yes\": 1 2 2 2 2 1 2 2 2 2 ...\n",
      " $ loan     : Factor w/ 2 levels \"no\",\"yes\": 1 2 1 2 1 1 1 1 1 2 ...\n",
      " $ y        : Factor w/ 2 levels \"no\",\"yes\": 1 1 1 1 1 1 1 1 1 1 ...\n"
     ]
    }
   ],
   "source": [
    "table_name <- in_schema(database, 'bank_marketing_data')\n",
    "table <- tbl(con, table_name)\n",
    "\n",
    "bank <- table %>% select(c('age', 'job', 'marital', 'education', 'default', 'balance', 'housing', 'loan', 'y')) %>% as.data.frame()\n",
    "\n",
    "bank$age <- as.integer(bank$age)\n",
    "bank$job <- as.factor(bank$job)\n",
    "bank$marital <- as.factor(bank$marital)\n",
    "bank$education <- as.factor(bank$education)\n",
    "bank$default <- as.factor(bank$default)\n",
    "bank$balance <- as.integer(bank$balance)\n",
    "bank$housing <- as.factor(bank$housing)\n",
    "bank$loan <- as.factor(bank$loan)\n",
    "bank$y <- as.factor(bank$y)\n",
    "str(bank)"
   ]
  },
  {
   "cell_type": "markdown",
   "id": "ba37be00-dd25-4b96-8d7c-dddb2f0a3cc7",
   "metadata": {},
   "source": [
    "Now we must initialize h2o and prepare the training dataset"
   ]
  },
  {
   "cell_type": "code",
   "execution_count": 16,
   "id": "863816c3-2c01-4b8c-b3a4-1f892b663046",
   "metadata": {},
   "outputs": [
    {
     "name": "stdout",
     "output_type": "stream",
     "text": [
      " Connection successful!\n",
      "\n",
      "R is connected to the H2O cluster: \n",
      "    H2O cluster uptime:         7 hours 10 minutes \n",
      "    H2O cluster timezone:       Etc/UTC \n",
      "    H2O data parsing timezone:  UTC \n",
      "    H2O cluster version:        3.32.1.3 \n",
      "    H2O cluster version age:    4 months and 8 days !!! \n",
      "    H2O cluster name:           H2O_started_from_R_jovyan_vba422 \n",
      "    H2O cluster total nodes:    1 \n",
      "    H2O cluster total memory:   1.63 GB \n",
      "    H2O cluster total cores:    1 \n",
      "    H2O cluster allowed cores:  1 \n",
      "    H2O cluster healthy:        TRUE \n",
      "    H2O Connection ip:          localhost \n",
      "    H2O Connection port:        54321 \n",
      "    H2O Connection proxy:       NA \n",
      "    H2O Internal Security:      FALSE \n",
      "    H2O API Extensions:         Amazon S3, XGBoost, Algos, AutoML, Core V3, TargetEncoder, Core V4 \n",
      "    R Version:                  R version 4.0.3 (2020-10-10) \n"
     ]
    },
    {
     "name": "stderr",
     "output_type": "stream",
     "text": [
      "Warning message in h2o.clusterInfo():\n",
      "“\n",
      "Your H2O cluster version is too old (4 months and 8 days)!\n",
      "Please download and install the latest version from http://h2o.ai/download/”\n"
     ]
    },
    {
     "name": "stdout",
     "output_type": "stream",
     "text": [
      "\n",
      "  |======================================================================| 100%\n"
     ]
    }
   ],
   "source": [
    "h2o.init(nthreads = -1)\n",
    "train_df <- as.h2o(bank)"
   ]
  },
  {
   "cell_type": "markdown",
   "id": "250122bb-e0a5-49d9-b4b4-6b3e8bbff480",
   "metadata": {},
   "source": [
    "We split the training dataset"
   ]
  },
  {
   "cell_type": "code",
   "execution_count": 17,
   "id": "9af05a1a-ed21-4354-9ab7-63d659ef00f8",
   "metadata": {},
   "outputs": [],
   "source": [
    "splits <- h2o.splitFrame(train_df, 0.75, seed=1234)"
   ]
  },
  {
   "cell_type": "markdown",
   "id": "444ec17c-721e-4aa2-9f61-0ed7f8d5752a",
   "metadata": {},
   "source": [
    "We initally train with 50 ntrees, 2 max depth and 2 min rows. Then we evaluate the predictions with the other split."
   ]
  },
  {
   "cell_type": "code",
   "execution_count": 31,
   "id": "0a2fff3f-9ef3-4c4c-87dc-c906cf01885d",
   "metadata": {},
   "outputs": [
    {
     "name": "stdout",
     "output_type": "stream",
     "text": [
      "  |======================================================================| 100%\n",
      "  |======================================================================| 100%\n"
     ]
    }
   ],
   "source": [
    "model <- h2o.gbm(x = c(1:8), y = 9, training_frame = splits[[1]], categorical_encoding = 'auto', ntrees = 50, max_depth = 2, min_rows = 2, learn_rate = 0.1)\n",
    "pred <- h2o.predict(model, splits[[2]])"
   ]
  },
  {
   "cell_type": "code",
   "execution_count": 32,
   "id": "bb2fe6a2-6565-48f3-84b6-7106d2115bc5",
   "metadata": {},
   "outputs": [
    {
     "data": {
      "text/plain": [
       "H2OBinomialMetrics: gbm\n",
       "** Reported on training data. **\n",
       "\n",
       "MSE:  0.09070706\n",
       "RMSE:  0.3011761\n",
       "LogLoss:  0.3167571\n",
       "Mean Per-Class Error:  0.3633824\n",
       "AUC:  0.7224752\n",
       "AUCPR:  0.2930073\n",
       "Gini:  0.4449503\n",
       "R^2:  0.07874112\n",
       "\n",
       "Confusion Matrix (vertical: actual; across: predicted) for F1-optimal threshold:\n",
       "         no yes    Error       Rate\n",
       "no     2544 476 0.157616  =476/3020\n",
       "yes     214 162 0.569149   =214/376\n",
       "Totals 2758 638 0.203180  =690/3396\n",
       "\n",
       "Maximum Metrics: Maximum metrics at their respective thresholds\n",
       "                        metric threshold       value idx\n",
       "1                       max f1  0.139753    0.319527 178\n",
       "2                       max f2  0.100886    0.458760 259\n",
       "3                 max f0point5  0.218462    0.332992  84\n",
       "4                 max accuracy  0.339259    0.893110  32\n",
       "5                max precision  0.707215    1.000000   0\n",
       "6                   max recall  0.042585    1.000000 383\n",
       "7              max specificity  0.707215    1.000000   0\n",
       "8             max absolute_mcc  0.165812    0.227806 138\n",
       "9   max min_per_class_accuracy  0.110019    0.656915 236\n",
       "10 max mean_per_class_accuracy  0.100886    0.660291 259\n",
       "11                     max tns  0.707215 3020.000000   0\n",
       "12                     max fns  0.707215  375.000000   0\n",
       "13                     max fps  0.024149 3020.000000 399\n",
       "14                     max tps  0.042585  376.000000 383\n",
       "15                     max tnr  0.707215    1.000000   0\n",
       "16                     max fnr  0.707215    0.997340   0\n",
       "17                     max fpr  0.024149    1.000000 399\n",
       "18                     max tpr  0.042585    1.000000 383\n",
       "\n",
       "Gains/Lift Table: Extract with `h2o.gainsLift(<model>, <data>)` or `h2o.gainsLift(<model>, valid=<T/F>, xval=<T/F>)`"
      ]
     },
     "metadata": {},
     "output_type": "display_data"
    }
   ],
   "source": [
    "# Eval performance:\n",
    "perf <- h2o.performance(model)\n",
    "perf"
   ]
  },
  {
   "cell_type": "code",
   "execution_count": 34,
   "id": "201b20bd-dc52-4527-985e-a2a58c5ab10c",
   "metadata": {},
   "outputs": [
    {
     "data": {
      "text/html": [
       "<ol>\n",
       "\t<li><table class=\"dataframe\">\n",
       "<caption>A H2OTable: 8 × 16</caption>\n",
       "<thead>\n",
       "\t<tr><th scope=col>interaction</th><th scope=col>gain</th><th scope=col>fscore</th><th scope=col>wfscore</th><th scope=col>average_wfscore</th><th scope=col>average_gain</th><th scope=col>expected_gain</th><th scope=col>gain_rank</th><th scope=col>fscore_rank</th><th scope=col>wfscore_rank</th><th scope=col>avg_wfscore_rank</th><th scope=col>avg_gain_rank</th><th scope=col>expected_gain_rank</th><th scope=col>average_rank</th><th scope=col>average_tree_index</th><th scope=col>average_tree_depth</th></tr>\n",
       "\t<tr><th scope=col>&lt;chr&gt;</th><th scope=col>&lt;dbl&gt;</th><th scope=col>&lt;dbl&gt;</th><th scope=col>&lt;dbl&gt;</th><th scope=col>&lt;dbl&gt;</th><th scope=col>&lt;dbl&gt;</th><th scope=col>&lt;dbl&gt;</th><th scope=col>&lt;int&gt;</th><th scope=col>&lt;int&gt;</th><th scope=col>&lt;int&gt;</th><th scope=col>&lt;int&gt;</th><th scope=col>&lt;int&gt;</th><th scope=col>&lt;int&gt;</th><th scope=col>&lt;dbl&gt;</th><th scope=col>&lt;dbl&gt;</th><th scope=col>&lt;dbl&gt;</th></tr>\n",
       "</thead>\n",
       "<tbody>\n",
       "\t<tr><td>loan     </td><td> 1.497338</td><td>10</td><td> 9.4829211</td><td>0.9482921</td><td>0.1497338</td><td> 1.2477369</td><td>7</td><td>6</td><td>5</td><td>2</td><td>8</td><td>6</td><td>5.666667</td><td>22.60000</td><td>0.2000000</td></tr>\n",
       "\t<tr><td>education</td><td> 4.203318</td><td> 8</td><td> 3.0453475</td><td>0.3806684</td><td>0.5254148</td><td> 0.9644172</td><td>6</td><td>7</td><td>7</td><td>7</td><td>5</td><td>7</td><td>6.500000</td><td>40.25000</td><td>1.0000000</td></tr>\n",
       "\t<tr><td>housing  </td><td> 6.453079</td><td>11</td><td>10.9213780</td><td>0.9928525</td><td>0.5866436</td><td> 6.2839613</td><td>5</td><td>4</td><td>4</td><td>1</td><td>4</td><td>4</td><td>3.666667</td><td>17.72727</td><td>0.2727273</td></tr>\n",
       "\t<tr><td>default  </td><td> 1.489883</td><td> 1</td><td> 0.4363958</td><td>0.4363958</td><td>1.4898834</td><td> 0.6501788</td><td>8</td><td>8</td><td>8</td><td>6</td><td>1</td><td>8</td><td>6.500000</td><td>12.00000</td><td>1.0000000</td></tr>\n",
       "\t<tr><td>balance  </td><td>16.232924</td><td>37</td><td>28.7703180</td><td>0.7775762</td><td>0.4387277</td><td>12.2952646</td><td>2</td><td>2</td><td>1</td><td>3</td><td>6</td><td>1</td><td>2.500000</td><td>29.94595</td><td>0.6756757</td></tr>\n",
       "\t<tr><td>marital  </td><td> 9.497456</td><td>11</td><td> 8.0164901</td><td>0.7287718</td><td>0.8634051</td><td> 6.7386165</td><td>4</td><td>5</td><td>6</td><td>4</td><td>2</td><td>3</td><td>4.000000</td><td>16.36364</td><td>0.8181818</td></tr>\n",
       "\t<tr><td>job      </td><td>21.805783</td><td>33</td><td>11.9293287</td><td>0.3614948</td><td>0.6607813</td><td> 8.2800003</td><td>1</td><td>3</td><td>3</td><td>8</td><td>3</td><td>2</td><td>3.333333</td><td>25.66667</td><td>0.9393939</td></tr>\n",
       "\t<tr><td>age      </td><td>13.145834</td><td>39</td><td>27.3978210</td><td>0.7025082</td><td>0.3370727</td><td> 5.5450656</td><td>3</td><td>1</td><td>2</td><td>5</td><td>7</td><td>5</td><td>3.833333</td><td>20.12821</td><td>0.5384615</td></tr>\n",
       "</tbody>\n",
       "</table>\n",
       "</li>\n",
       "\t<li><table class=\"dataframe\">\n",
       "<caption>A H2OTable: 18 × 16</caption>\n",
       "<thead>\n",
       "\t<tr><th scope=col>interaction</th><th scope=col>gain</th><th scope=col>fscore</th><th scope=col>wfscore</th><th scope=col>average_wfscore</th><th scope=col>average_gain</th><th scope=col>expected_gain</th><th scope=col>gain_rank</th><th scope=col>fscore_rank</th><th scope=col>wfscore_rank</th><th scope=col>avg_wfscore_rank</th><th scope=col>avg_gain_rank</th><th scope=col>expected_gain_rank</th><th scope=col>average_rank</th><th scope=col>average_tree_index</th><th scope=col>average_tree_depth</th></tr>\n",
       "\t<tr><th scope=col>&lt;chr&gt;</th><th scope=col>&lt;dbl&gt;</th><th scope=col>&lt;dbl&gt;</th><th scope=col>&lt;dbl&gt;</th><th scope=col>&lt;dbl&gt;</th><th scope=col>&lt;dbl&gt;</th><th scope=col>&lt;dbl&gt;</th><th scope=col>&lt;int&gt;</th><th scope=col>&lt;int&gt;</th><th scope=col>&lt;int&gt;</th><th scope=col>&lt;int&gt;</th><th scope=col>&lt;int&gt;</th><th scope=col>&lt;int&gt;</th><th scope=col>&lt;dbl&gt;</th><th scope=col>&lt;dbl&gt;</th><th scope=col>&lt;dbl&gt;</th></tr>\n",
       "</thead>\n",
       "<tbody>\n",
       "\t<tr><td>loan|marital     </td><td> 2.9857502</td><td> 4</td><td> 3.40871620</td><td>0.85217905</td><td>0.7464375</td><td>2.544393769</td><td>11</td><td>12</td><td> 7</td><td> 1</td><td> 8</td><td> 7</td><td> 7.666667</td><td>23.25000</td><td>1</td></tr>\n",
       "\t<tr><td>age|job          </td><td>13.6548326</td><td>14</td><td> 3.62338044</td><td>0.25881289</td><td>0.9753452</td><td>3.966587291</td><td> 1</td><td> 1</td><td> 5</td><td>14</td><td> 4</td><td> 3</td><td> 4.666667</td><td>16.64286</td><td>1</td></tr>\n",
       "\t<tr><td>balance|housing  </td><td> 4.6932230</td><td> 6</td><td> 2.87161374</td><td>0.47860229</td><td>0.7822038</td><td>2.104747078</td><td> 7</td><td> 6</td><td> 9</td><td>10</td><td> 7</td><td>10</td><td> 8.166667</td><td>22.50000</td><td>1</td></tr>\n",
       "\t<tr><td>age|age          </td><td> 4.7286348</td><td> 6</td><td> 3.95406355</td><td>0.65901059</td><td>0.7881058</td><td>2.618388780</td><td> 6</td><td> 7</td><td> 4</td><td> 6</td><td> 6</td><td> 6</td><td> 5.833333</td><td>18.83333</td><td>1</td></tr>\n",
       "\t<tr><td>balance|default  </td><td> 1.4898987</td><td> 1</td><td> 0.43639576</td><td>0.43639576</td><td>1.4898987</td><td>0.650185474</td><td>14</td><td>16</td><td>15</td><td>11</td><td> 1</td><td>12</td><td>11.500000</td><td>12.00000</td><td>1</td></tr>\n",
       "\t<tr><td>age|balance      </td><td> 3.1562313</td><td> 5</td><td> 3.51295641</td><td>0.70259128</td><td>0.6312463</td><td>2.291797209</td><td>10</td><td> 9</td><td> 6</td><td> 4</td><td>12</td><td> 9</td><td> 8.333333</td><td>25.20000</td><td>1</td></tr>\n",
       "\t<tr><td>balance|education</td><td> 0.1016792</td><td> 1</td><td> 0.02002356</td><td>0.02002356</td><td>0.1016792</td><td>0.002035979</td><td>18</td><td>17</td><td>18</td><td>18</td><td>18</td><td>18</td><td>17.833333</td><td>43.00000</td><td>1</td></tr>\n",
       "\t<tr><td>housing|loan     </td><td> 0.3607950</td><td> 1</td><td> 0.56419319</td><td>0.56419319</td><td>0.3607950</td><td>0.203558094</td><td>17</td><td>18</td><td>14</td><td> 7</td><td>15</td><td>15</td><td>14.333333</td><td>10.00000</td><td>1</td></tr>\n",
       "\t<tr><td>job|loan         </td><td> 4.0530090</td><td> 6</td><td> 4.47526510</td><td>0.74587752</td><td>0.6755015</td><td>3.345297075</td><td> 9</td><td> 8</td><td> 3</td><td> 3</td><td>11</td><td> 5</td><td> 6.500000</td><td>26.83333</td><td>1</td></tr>\n",
       "\t<tr><td>age|loan         </td><td> 2.3646898</td><td> 5</td><td> 0.73910482</td><td>0.14782096</td><td>0.4729380</td><td>0.349550731</td><td>12</td><td>10</td><td>13</td><td>15</td><td>14</td><td>14</td><td>13.000000</td><td>20.00000</td><td>1</td></tr>\n",
       "\t<tr><td>balance|balance  </td><td> 9.0703017</td><td>13</td><td>10.65371019</td><td>0.81951617</td><td>0.6977155</td><td>8.509124227</td><td> 3</td><td> 2</td><td> 1</td><td> 2</td><td>10</td><td> 1</td><td> 3.166667</td><td>31.92308</td><td>1</td></tr>\n",
       "\t<tr><td>job|marital      </td><td> 4.8923187</td><td> 5</td><td> 2.63280332</td><td>0.52656066</td><td>0.9784637</td><td>2.520669832</td><td> 5</td><td>11</td><td>10</td><td> 8</td><td> 3</td><td> 8</td><td> 7.500000</td><td>28.80000</td><td>1</td></tr>\n",
       "\t<tr><td>housing|job      </td><td> 1.4795456</td><td> 2</td><td> 0.87161368</td><td>0.43580684</td><td>0.7397728</td><td>0.644796091</td><td>15</td><td>14</td><td>12</td><td>12</td><td> 9</td><td>13</td><td>12.500000</td><td>30.50000</td><td>1</td></tr>\n",
       "\t<tr><td>balance|job      </td><td> 2.1398367</td><td> 8</td><td> 0.32626619</td><td>0.04078327</td><td>0.2674796</td><td>0.095682799</td><td>13</td><td> 4</td><td>16</td><td>17</td><td>17</td><td>16</td><td>13.833333</td><td>32.75000</td><td>1</td></tr>\n",
       "\t<tr><td>balance|loan     </td><td> 0.5370831</td><td> 2</td><td> 0.29564193</td><td>0.14782096</td><td>0.2685416</td><td>0.079392149</td><td>16</td><td>15</td><td>17</td><td>16</td><td>16</td><td>17</td><td>16.166667</td><td>36.00000</td><td>1</td></tr>\n",
       "\t<tr><td>age|marital      </td><td> 5.4452248</td><td> 4</td><td> 1.97497053</td><td>0.49374263</td><td>1.3613062</td><td>3.519359575</td><td> 4</td><td>13</td><td>11</td><td> 9</td><td> 2</td><td> 4</td><td> 7.166667</td><td> 2.75000</td><td>1</td></tr>\n",
       "\t<tr><td>age|education    </td><td> 4.1016220</td><td> 7</td><td> 3.02532392</td><td>0.43218913</td><td>0.5859460</td><td>0.962370085</td><td> 8</td><td> 5</td><td> 8</td><td>13</td><td>13</td><td>11</td><td> 9.666667</td><td>39.85714</td><td>1</td></tr>\n",
       "\t<tr><td>age|housing      </td><td> 9.0708714</td><td>10</td><td> 6.61395764</td><td>0.66139576</td><td>0.9070871</td><td>7.597304953</td><td> 2</td><td> 3</td><td> 2</td><td> 5</td><td> 5</td><td> 2</td><td> 3.166667</td><td>18.00000</td><td>1</td></tr>\n",
       "</tbody>\n",
       "</table>\n",
       "</li>\n",
       "\t<li><table class=\"dataframe\">\n",
       "<caption>A H2OTable: 18 × 5</caption>\n",
       "<thead>\n",
       "\t<tr><th scope=col>interaction</th><th scope=col>sum_leaf_values_left</th><th scope=col>sum_leaf_values_right</th><th scope=col>sum_leaf_covers_left</th><th scope=col>sum_leaf_covers_right</th></tr>\n",
       "\t<tr><th scope=col>&lt;chr&gt;</th><th scope=col>&lt;dbl&gt;</th><th scope=col>&lt;dbl&gt;</th><th scope=col>&lt;dbl&gt;</th><th scope=col>&lt;dbl&gt;</th></tr>\n",
       "</thead>\n",
       "<tbody>\n",
       "\t<tr><td>loan|marital     </td><td>-0.03020679</td><td> 0.09289676</td><td> 7148</td><td> 4428</td></tr>\n",
       "\t<tr><td>age|job          </td><td>-0.18687751</td><td> 1.86585937</td><td> 6720</td><td> 5585</td></tr>\n",
       "\t<tr><td>balance|housing  </td><td> 0.02980969</td><td> 0.04016096</td><td> 3877</td><td> 5875</td></tr>\n",
       "\t<tr><td>age|age          </td><td> 0.49702663</td><td> 0.76486537</td><td> 6548</td><td> 6880</td></tr>\n",
       "\t<tr><td>balance|default  </td><td> 0.01861086</td><td> 0.85310012</td><td> 1480</td><td>    2</td></tr>\n",
       "\t<tr><td>age|balance      </td><td> 0.13442569</td><td> 0.21275723</td><td> 7374</td><td> 4556</td></tr>\n",
       "\t<tr><td>balance|education</td><td>-0.10991792</td><td> 0.07167227</td><td>   62</td><td>    6</td></tr>\n",
       "\t<tr><td>housing|loan     </td><td>-0.06027932</td><td>-0.01369802</td><td>  285</td><td> 1631</td></tr>\n",
       "\t<tr><td>job|loan         </td><td>-0.21898967</td><td> 0.05016825</td><td> 4180</td><td>11018</td></tr>\n",
       "\t<tr><td>age|loan         </td><td> 0.15877504</td><td>-0.31614067</td><td>  435</td><td> 2075</td></tr>\n",
       "\t<tr><td>balance|balance  </td><td>-0.28567878</td><td> 1.33377333</td><td>30597</td><td> 5583</td></tr>\n",
       "\t<tr><td>job|marital      </td><td>-0.11892640</td><td> 0.14720548</td><td> 5276</td><td> 3665</td></tr>\n",
       "\t<tr><td>housing|job      </td><td> 0.00588262</td><td> 0.08518918</td><td> 2365</td><td>  595</td></tr>\n",
       "\t<tr><td>balance|job      </td><td>-0.69912404</td><td> 0.38477067</td><td>  587</td><td>  521</td></tr>\n",
       "\t<tr><td>balance|loan     </td><td> 0.13100640</td><td>-0.08922563</td><td>  100</td><td>  904</td></tr>\n",
       "\t<tr><td>age|marital      </td><td> 0.18550906</td><td> 0.63105306</td><td> 4148</td><td> 2559</td></tr>\n",
       "\t<tr><td>age|education    </td><td>-0.36114474</td><td> 0.77811304</td><td> 3748</td><td> 6526</td></tr>\n",
       "\t<tr><td>age|housing      </td><td> 0.06891782</td><td>-0.17068747</td><td>13122</td><td> 9339</td></tr>\n",
       "</tbody>\n",
       "</table>\n",
       "</li>\n",
       "\t<li><table class=\"dataframe\">\n",
       "<caption>A H2OTable: 1 × 2</caption>\n",
       "<thead>\n",
       "\t<tr><th scope=col>split_value</th><th scope=col>count</th></tr>\n",
       "\t<tr><th scope=col>&lt;dbl&gt;</th><th scope=col>&lt;int&gt;</th></tr>\n",
       "</thead>\n",
       "<tbody>\n",
       "\t<tr><td>NaN</td><td>10</td></tr>\n",
       "</tbody>\n",
       "</table>\n",
       "</li>\n",
       "\t<li><table class=\"dataframe\">\n",
       "<caption>A H2OTable: 1 × 2</caption>\n",
       "<thead>\n",
       "\t<tr><th scope=col>split_value</th><th scope=col>count</th></tr>\n",
       "\t<tr><th scope=col>&lt;dbl&gt;</th><th scope=col>&lt;int&gt;</th></tr>\n",
       "</thead>\n",
       "<tbody>\n",
       "\t<tr><td>NaN</td><td>8</td></tr>\n",
       "</tbody>\n",
       "</table>\n",
       "</li>\n",
       "\t<li><table class=\"dataframe\">\n",
       "<caption>A H2OTable: 1 × 2</caption>\n",
       "<thead>\n",
       "\t<tr><th scope=col>split_value</th><th scope=col>count</th></tr>\n",
       "\t<tr><th scope=col>&lt;dbl&gt;</th><th scope=col>&lt;int&gt;</th></tr>\n",
       "</thead>\n",
       "<tbody>\n",
       "\t<tr><td>NaN</td><td>11</td></tr>\n",
       "</tbody>\n",
       "</table>\n",
       "</li>\n",
       "\t<li><table class=\"dataframe\">\n",
       "<caption>A H2OTable: 1 × 2</caption>\n",
       "<thead>\n",
       "\t<tr><th scope=col>split_value</th><th scope=col>count</th></tr>\n",
       "\t<tr><th scope=col>&lt;dbl&gt;</th><th scope=col>&lt;int&gt;</th></tr>\n",
       "</thead>\n",
       "<tbody>\n",
       "\t<tr><td>NaN</td><td>1</td></tr>\n",
       "</tbody>\n",
       "</table>\n",
       "</li>\n",
       "\t<li><table class=\"dataframe\">\n",
       "<caption>A H2OTable: 18 × 2</caption>\n",
       "<thead>\n",
       "\t<tr><th scope=col>split_value</th><th scope=col>count</th></tr>\n",
       "\t<tr><th scope=col>&lt;dbl&gt;</th><th scope=col>&lt;int&gt;</th></tr>\n",
       "</thead>\n",
       "<tbody>\n",
       "\t<tr><td> -693.5</td><td>1</td></tr>\n",
       "\t<tr><td> -184.5</td><td>1</td></tr>\n",
       "\t<tr><td> -111.5</td><td>2</td></tr>\n",
       "\t<tr><td>   94.5</td><td>1</td></tr>\n",
       "\t<tr><td>  179.5</td><td>4</td></tr>\n",
       "\t<tr><td>  470.5</td><td>1</td></tr>\n",
       "\t<tr><td>  615.5</td><td>3</td></tr>\n",
       "\t<tr><td>  907.0</td><td>1</td></tr>\n",
       "\t<tr><td> 1934.5</td><td>3</td></tr>\n",
       "\t<tr><td> 1940.5</td><td>2</td></tr>\n",
       "\t<tr><td> 4072.5</td><td>1</td></tr>\n",
       "\t<tr><td> 4390.5</td><td>1</td></tr>\n",
       "\t<tr><td> 5417.5</td><td>1</td></tr>\n",
       "\t<tr><td> 5490.5</td><td>1</td></tr>\n",
       "\t<tr><td> 5563.5</td><td>3</td></tr>\n",
       "\t<tr><td> 9573.0</td><td>3</td></tr>\n",
       "\t<tr><td> 9856.0</td><td>6</td></tr>\n",
       "\t<tr><td>26686.5</td><td>2</td></tr>\n",
       "</tbody>\n",
       "</table>\n",
       "</li>\n",
       "\t<li><table class=\"dataframe\">\n",
       "<caption>A H2OTable: 1 × 2</caption>\n",
       "<thead>\n",
       "\t<tr><th scope=col>split_value</th><th scope=col>count</th></tr>\n",
       "\t<tr><th scope=col>&lt;dbl&gt;</th><th scope=col>&lt;int&gt;</th></tr>\n",
       "</thead>\n",
       "<tbody>\n",
       "\t<tr><td>NaN</td><td>11</td></tr>\n",
       "</tbody>\n",
       "</table>\n",
       "</li>\n",
       "\t<li><table class=\"dataframe\">\n",
       "<caption>A H2OTable: 1 × 2</caption>\n",
       "<thead>\n",
       "\t<tr><th scope=col>split_value</th><th scope=col>count</th></tr>\n",
       "\t<tr><th scope=col>&lt;dbl&gt;</th><th scope=col>&lt;int&gt;</th></tr>\n",
       "</thead>\n",
       "<tbody>\n",
       "\t<tr><td>NaN</td><td>33</td></tr>\n",
       "</tbody>\n",
       "</table>\n",
       "</li>\n",
       "\t<li><table class=\"dataframe\">\n",
       "<caption>A H2OTable: 11 × 2</caption>\n",
       "<thead>\n",
       "\t<tr><th scope=col>split_value</th><th scope=col>count</th></tr>\n",
       "\t<tr><th scope=col>&lt;dbl&gt;</th><th scope=col>&lt;int&gt;</th></tr>\n",
       "</thead>\n",
       "<tbody>\n",
       "\t<tr><td>19.5</td><td>1</td></tr>\n",
       "\t<tr><td>25.5</td><td>6</td></tr>\n",
       "\t<tr><td>29.5</td><td>3</td></tr>\n",
       "\t<tr><td>31.5</td><td>5</td></tr>\n",
       "\t<tr><td>53.5</td><td>4</td></tr>\n",
       "\t<tr><td>56.5</td><td>1</td></tr>\n",
       "\t<tr><td>58.5</td><td>5</td></tr>\n",
       "\t<tr><td>60.5</td><td>4</td></tr>\n",
       "\t<tr><td>70.5</td><td>3</td></tr>\n",
       "\t<tr><td>77.5</td><td>6</td></tr>\n",
       "\t<tr><td>81.5</td><td>1</td></tr>\n",
       "</tbody>\n",
       "</table>\n",
       "</li>\n",
       "</ol>\n"
      ],
      "text/latex": [
       "\\begin{enumerate}\n",
       "\\item A H2OTable: 8 × 16\n",
       "\\begin{tabular}{llllllllllllllll}\n",
       " interaction & gain & fscore & wfscore & average\\_wfscore & average\\_gain & expected\\_gain & gain\\_rank & fscore\\_rank & wfscore\\_rank & avg\\_wfscore\\_rank & avg\\_gain\\_rank & expected\\_gain\\_rank & average\\_rank & average\\_tree\\_index & average\\_tree\\_depth\\\\\n",
       " <chr> & <dbl> & <dbl> & <dbl> & <dbl> & <dbl> & <dbl> & <int> & <int> & <int> & <int> & <int> & <int> & <dbl> & <dbl> & <dbl>\\\\\n",
       "\\hline\n",
       "\t loan      &  1.497338 & 10 &  9.4829211 & 0.9482921 & 0.1497338 &  1.2477369 & 7 & 6 & 5 & 2 & 8 & 6 & 5.666667 & 22.60000 & 0.2000000\\\\\n",
       "\t education &  4.203318 &  8 &  3.0453475 & 0.3806684 & 0.5254148 &  0.9644172 & 6 & 7 & 7 & 7 & 5 & 7 & 6.500000 & 40.25000 & 1.0000000\\\\\n",
       "\t housing   &  6.453079 & 11 & 10.9213780 & 0.9928525 & 0.5866436 &  6.2839613 & 5 & 4 & 4 & 1 & 4 & 4 & 3.666667 & 17.72727 & 0.2727273\\\\\n",
       "\t default   &  1.489883 &  1 &  0.4363958 & 0.4363958 & 1.4898834 &  0.6501788 & 8 & 8 & 8 & 6 & 1 & 8 & 6.500000 & 12.00000 & 1.0000000\\\\\n",
       "\t balance   & 16.232924 & 37 & 28.7703180 & 0.7775762 & 0.4387277 & 12.2952646 & 2 & 2 & 1 & 3 & 6 & 1 & 2.500000 & 29.94595 & 0.6756757\\\\\n",
       "\t marital   &  9.497456 & 11 &  8.0164901 & 0.7287718 & 0.8634051 &  6.7386165 & 4 & 5 & 6 & 4 & 2 & 3 & 4.000000 & 16.36364 & 0.8181818\\\\\n",
       "\t job       & 21.805783 & 33 & 11.9293287 & 0.3614948 & 0.6607813 &  8.2800003 & 1 & 3 & 3 & 8 & 3 & 2 & 3.333333 & 25.66667 & 0.9393939\\\\\n",
       "\t age       & 13.145834 & 39 & 27.3978210 & 0.7025082 & 0.3370727 &  5.5450656 & 3 & 1 & 2 & 5 & 7 & 5 & 3.833333 & 20.12821 & 0.5384615\\\\\n",
       "\\end{tabular}\n",
       "\n",
       "\\item A H2OTable: 18 × 16\n",
       "\\begin{tabular}{llllllllllllllll}\n",
       " interaction & gain & fscore & wfscore & average\\_wfscore & average\\_gain & expected\\_gain & gain\\_rank & fscore\\_rank & wfscore\\_rank & avg\\_wfscore\\_rank & avg\\_gain\\_rank & expected\\_gain\\_rank & average\\_rank & average\\_tree\\_index & average\\_tree\\_depth\\\\\n",
       " <chr> & <dbl> & <dbl> & <dbl> & <dbl> & <dbl> & <dbl> & <int> & <int> & <int> & <int> & <int> & <int> & <dbl> & <dbl> & <dbl>\\\\\n",
       "\\hline\n",
       "\t loan\\textbar{}marital      &  2.9857502 &  4 &  3.40871620 & 0.85217905 & 0.7464375 & 2.544393769 & 11 & 12 &  7 &  1 &  8 &  7 &  7.666667 & 23.25000 & 1\\\\\n",
       "\t age\\textbar{}job           & 13.6548326 & 14 &  3.62338044 & 0.25881289 & 0.9753452 & 3.966587291 &  1 &  1 &  5 & 14 &  4 &  3 &  4.666667 & 16.64286 & 1\\\\\n",
       "\t balance\\textbar{}housing   &  4.6932230 &  6 &  2.87161374 & 0.47860229 & 0.7822038 & 2.104747078 &  7 &  6 &  9 & 10 &  7 & 10 &  8.166667 & 22.50000 & 1\\\\\n",
       "\t age\\textbar{}age           &  4.7286348 &  6 &  3.95406355 & 0.65901059 & 0.7881058 & 2.618388780 &  6 &  7 &  4 &  6 &  6 &  6 &  5.833333 & 18.83333 & 1\\\\\n",
       "\t balance\\textbar{}default   &  1.4898987 &  1 &  0.43639576 & 0.43639576 & 1.4898987 & 0.650185474 & 14 & 16 & 15 & 11 &  1 & 12 & 11.500000 & 12.00000 & 1\\\\\n",
       "\t age\\textbar{}balance       &  3.1562313 &  5 &  3.51295641 & 0.70259128 & 0.6312463 & 2.291797209 & 10 &  9 &  6 &  4 & 12 &  9 &  8.333333 & 25.20000 & 1\\\\\n",
       "\t balance\\textbar{}education &  0.1016792 &  1 &  0.02002356 & 0.02002356 & 0.1016792 & 0.002035979 & 18 & 17 & 18 & 18 & 18 & 18 & 17.833333 & 43.00000 & 1\\\\\n",
       "\t housing\\textbar{}loan      &  0.3607950 &  1 &  0.56419319 & 0.56419319 & 0.3607950 & 0.203558094 & 17 & 18 & 14 &  7 & 15 & 15 & 14.333333 & 10.00000 & 1\\\\\n",
       "\t job\\textbar{}loan          &  4.0530090 &  6 &  4.47526510 & 0.74587752 & 0.6755015 & 3.345297075 &  9 &  8 &  3 &  3 & 11 &  5 &  6.500000 & 26.83333 & 1\\\\\n",
       "\t age\\textbar{}loan          &  2.3646898 &  5 &  0.73910482 & 0.14782096 & 0.4729380 & 0.349550731 & 12 & 10 & 13 & 15 & 14 & 14 & 13.000000 & 20.00000 & 1\\\\\n",
       "\t balance\\textbar{}balance   &  9.0703017 & 13 & 10.65371019 & 0.81951617 & 0.6977155 & 8.509124227 &  3 &  2 &  1 &  2 & 10 &  1 &  3.166667 & 31.92308 & 1\\\\\n",
       "\t job\\textbar{}marital       &  4.8923187 &  5 &  2.63280332 & 0.52656066 & 0.9784637 & 2.520669832 &  5 & 11 & 10 &  8 &  3 &  8 &  7.500000 & 28.80000 & 1\\\\\n",
       "\t housing\\textbar{}job       &  1.4795456 &  2 &  0.87161368 & 0.43580684 & 0.7397728 & 0.644796091 & 15 & 14 & 12 & 12 &  9 & 13 & 12.500000 & 30.50000 & 1\\\\\n",
       "\t balance\\textbar{}job       &  2.1398367 &  8 &  0.32626619 & 0.04078327 & 0.2674796 & 0.095682799 & 13 &  4 & 16 & 17 & 17 & 16 & 13.833333 & 32.75000 & 1\\\\\n",
       "\t balance\\textbar{}loan      &  0.5370831 &  2 &  0.29564193 & 0.14782096 & 0.2685416 & 0.079392149 & 16 & 15 & 17 & 16 & 16 & 17 & 16.166667 & 36.00000 & 1\\\\\n",
       "\t age\\textbar{}marital       &  5.4452248 &  4 &  1.97497053 & 0.49374263 & 1.3613062 & 3.519359575 &  4 & 13 & 11 &  9 &  2 &  4 &  7.166667 &  2.75000 & 1\\\\\n",
       "\t age\\textbar{}education     &  4.1016220 &  7 &  3.02532392 & 0.43218913 & 0.5859460 & 0.962370085 &  8 &  5 &  8 & 13 & 13 & 11 &  9.666667 & 39.85714 & 1\\\\\n",
       "\t age\\textbar{}housing       &  9.0708714 & 10 &  6.61395764 & 0.66139576 & 0.9070871 & 7.597304953 &  2 &  3 &  2 &  5 &  5 &  2 &  3.166667 & 18.00000 & 1\\\\\n",
       "\\end{tabular}\n",
       "\n",
       "\\item A H2OTable: 18 × 5\n",
       "\\begin{tabular}{lllll}\n",
       " interaction & sum\\_leaf\\_values\\_left & sum\\_leaf\\_values\\_right & sum\\_leaf\\_covers\\_left & sum\\_leaf\\_covers\\_right\\\\\n",
       " <chr> & <dbl> & <dbl> & <dbl> & <dbl>\\\\\n",
       "\\hline\n",
       "\t loan\\textbar{}marital      & -0.03020679 &  0.09289676 &  7148 &  4428\\\\\n",
       "\t age\\textbar{}job           & -0.18687751 &  1.86585937 &  6720 &  5585\\\\\n",
       "\t balance\\textbar{}housing   &  0.02980969 &  0.04016096 &  3877 &  5875\\\\\n",
       "\t age\\textbar{}age           &  0.49702663 &  0.76486537 &  6548 &  6880\\\\\n",
       "\t balance\\textbar{}default   &  0.01861086 &  0.85310012 &  1480 &     2\\\\\n",
       "\t age\\textbar{}balance       &  0.13442569 &  0.21275723 &  7374 &  4556\\\\\n",
       "\t balance\\textbar{}education & -0.10991792 &  0.07167227 &    62 &     6\\\\\n",
       "\t housing\\textbar{}loan      & -0.06027932 & -0.01369802 &   285 &  1631\\\\\n",
       "\t job\\textbar{}loan          & -0.21898967 &  0.05016825 &  4180 & 11018\\\\\n",
       "\t age\\textbar{}loan          &  0.15877504 & -0.31614067 &   435 &  2075\\\\\n",
       "\t balance\\textbar{}balance   & -0.28567878 &  1.33377333 & 30597 &  5583\\\\\n",
       "\t job\\textbar{}marital       & -0.11892640 &  0.14720548 &  5276 &  3665\\\\\n",
       "\t housing\\textbar{}job       &  0.00588262 &  0.08518918 &  2365 &   595\\\\\n",
       "\t balance\\textbar{}job       & -0.69912404 &  0.38477067 &   587 &   521\\\\\n",
       "\t balance\\textbar{}loan      &  0.13100640 & -0.08922563 &   100 &   904\\\\\n",
       "\t age\\textbar{}marital       &  0.18550906 &  0.63105306 &  4148 &  2559\\\\\n",
       "\t age\\textbar{}education     & -0.36114474 &  0.77811304 &  3748 &  6526\\\\\n",
       "\t age\\textbar{}housing       &  0.06891782 & -0.17068747 & 13122 &  9339\\\\\n",
       "\\end{tabular}\n",
       "\n",
       "\\item A H2OTable: 1 × 2\n",
       "\\begin{tabular}{ll}\n",
       " split\\_value & count\\\\\n",
       " <dbl> & <int>\\\\\n",
       "\\hline\n",
       "\t NaN & 10\\\\\n",
       "\\end{tabular}\n",
       "\n",
       "\\item A H2OTable: 1 × 2\n",
       "\\begin{tabular}{ll}\n",
       " split\\_value & count\\\\\n",
       " <dbl> & <int>\\\\\n",
       "\\hline\n",
       "\t NaN & 8\\\\\n",
       "\\end{tabular}\n",
       "\n",
       "\\item A H2OTable: 1 × 2\n",
       "\\begin{tabular}{ll}\n",
       " split\\_value & count\\\\\n",
       " <dbl> & <int>\\\\\n",
       "\\hline\n",
       "\t NaN & 11\\\\\n",
       "\\end{tabular}\n",
       "\n",
       "\\item A H2OTable: 1 × 2\n",
       "\\begin{tabular}{ll}\n",
       " split\\_value & count\\\\\n",
       " <dbl> & <int>\\\\\n",
       "\\hline\n",
       "\t NaN & 1\\\\\n",
       "\\end{tabular}\n",
       "\n",
       "\\item A H2OTable: 18 × 2\n",
       "\\begin{tabular}{ll}\n",
       " split\\_value & count\\\\\n",
       " <dbl> & <int>\\\\\n",
       "\\hline\n",
       "\t  -693.5 & 1\\\\\n",
       "\t  -184.5 & 1\\\\\n",
       "\t  -111.5 & 2\\\\\n",
       "\t    94.5 & 1\\\\\n",
       "\t   179.5 & 4\\\\\n",
       "\t   470.5 & 1\\\\\n",
       "\t   615.5 & 3\\\\\n",
       "\t   907.0 & 1\\\\\n",
       "\t  1934.5 & 3\\\\\n",
       "\t  1940.5 & 2\\\\\n",
       "\t  4072.5 & 1\\\\\n",
       "\t  4390.5 & 1\\\\\n",
       "\t  5417.5 & 1\\\\\n",
       "\t  5490.5 & 1\\\\\n",
       "\t  5563.5 & 3\\\\\n",
       "\t  9573.0 & 3\\\\\n",
       "\t  9856.0 & 6\\\\\n",
       "\t 26686.5 & 2\\\\\n",
       "\\end{tabular}\n",
       "\n",
       "\\item A H2OTable: 1 × 2\n",
       "\\begin{tabular}{ll}\n",
       " split\\_value & count\\\\\n",
       " <dbl> & <int>\\\\\n",
       "\\hline\n",
       "\t NaN & 11\\\\\n",
       "\\end{tabular}\n",
       "\n",
       "\\item A H2OTable: 1 × 2\n",
       "\\begin{tabular}{ll}\n",
       " split\\_value & count\\\\\n",
       " <dbl> & <int>\\\\\n",
       "\\hline\n",
       "\t NaN & 33\\\\\n",
       "\\end{tabular}\n",
       "\n",
       "\\item A H2OTable: 11 × 2\n",
       "\\begin{tabular}{ll}\n",
       " split\\_value & count\\\\\n",
       " <dbl> & <int>\\\\\n",
       "\\hline\n",
       "\t 19.5 & 1\\\\\n",
       "\t 25.5 & 6\\\\\n",
       "\t 29.5 & 3\\\\\n",
       "\t 31.5 & 5\\\\\n",
       "\t 53.5 & 4\\\\\n",
       "\t 56.5 & 1\\\\\n",
       "\t 58.5 & 5\\\\\n",
       "\t 60.5 & 4\\\\\n",
       "\t 70.5 & 3\\\\\n",
       "\t 77.5 & 6\\\\\n",
       "\t 81.5 & 1\\\\\n",
       "\\end{tabular}\n",
       "\n",
       "\\end{enumerate}\n"
      ],
      "text/markdown": [
       "1. \n",
       "A H2OTable: 8 × 16\n",
       "\n",
       "| interaction &lt;chr&gt; | gain &lt;dbl&gt; | fscore &lt;dbl&gt; | wfscore &lt;dbl&gt; | average_wfscore &lt;dbl&gt; | average_gain &lt;dbl&gt; | expected_gain &lt;dbl&gt; | gain_rank &lt;int&gt; | fscore_rank &lt;int&gt; | wfscore_rank &lt;int&gt; | avg_wfscore_rank &lt;int&gt; | avg_gain_rank &lt;int&gt; | expected_gain_rank &lt;int&gt; | average_rank &lt;dbl&gt; | average_tree_index &lt;dbl&gt; | average_tree_depth &lt;dbl&gt; |\n",
       "|---|---|---|---|---|---|---|---|---|---|---|---|---|---|---|---|\n",
       "| loan      |  1.497338 | 10 |  9.4829211 | 0.9482921 | 0.1497338 |  1.2477369 | 7 | 6 | 5 | 2 | 8 | 6 | 5.666667 | 22.60000 | 0.2000000 |\n",
       "| education |  4.203318 |  8 |  3.0453475 | 0.3806684 | 0.5254148 |  0.9644172 | 6 | 7 | 7 | 7 | 5 | 7 | 6.500000 | 40.25000 | 1.0000000 |\n",
       "| housing   |  6.453079 | 11 | 10.9213780 | 0.9928525 | 0.5866436 |  6.2839613 | 5 | 4 | 4 | 1 | 4 | 4 | 3.666667 | 17.72727 | 0.2727273 |\n",
       "| default   |  1.489883 |  1 |  0.4363958 | 0.4363958 | 1.4898834 |  0.6501788 | 8 | 8 | 8 | 6 | 1 | 8 | 6.500000 | 12.00000 | 1.0000000 |\n",
       "| balance   | 16.232924 | 37 | 28.7703180 | 0.7775762 | 0.4387277 | 12.2952646 | 2 | 2 | 1 | 3 | 6 | 1 | 2.500000 | 29.94595 | 0.6756757 |\n",
       "| marital   |  9.497456 | 11 |  8.0164901 | 0.7287718 | 0.8634051 |  6.7386165 | 4 | 5 | 6 | 4 | 2 | 3 | 4.000000 | 16.36364 | 0.8181818 |\n",
       "| job       | 21.805783 | 33 | 11.9293287 | 0.3614948 | 0.6607813 |  8.2800003 | 1 | 3 | 3 | 8 | 3 | 2 | 3.333333 | 25.66667 | 0.9393939 |\n",
       "| age       | 13.145834 | 39 | 27.3978210 | 0.7025082 | 0.3370727 |  5.5450656 | 3 | 1 | 2 | 5 | 7 | 5 | 3.833333 | 20.12821 | 0.5384615 |\n",
       "\n",
       "\n",
       "2. \n",
       "A H2OTable: 18 × 16\n",
       "\n",
       "| interaction &lt;chr&gt; | gain &lt;dbl&gt; | fscore &lt;dbl&gt; | wfscore &lt;dbl&gt; | average_wfscore &lt;dbl&gt; | average_gain &lt;dbl&gt; | expected_gain &lt;dbl&gt; | gain_rank &lt;int&gt; | fscore_rank &lt;int&gt; | wfscore_rank &lt;int&gt; | avg_wfscore_rank &lt;int&gt; | avg_gain_rank &lt;int&gt; | expected_gain_rank &lt;int&gt; | average_rank &lt;dbl&gt; | average_tree_index &lt;dbl&gt; | average_tree_depth &lt;dbl&gt; |\n",
       "|---|---|---|---|---|---|---|---|---|---|---|---|---|---|---|---|\n",
       "| loan|marital      |  2.9857502 |  4 |  3.40871620 | 0.85217905 | 0.7464375 | 2.544393769 | 11 | 12 |  7 |  1 |  8 |  7 |  7.666667 | 23.25000 | 1 |\n",
       "| age|job           | 13.6548326 | 14 |  3.62338044 | 0.25881289 | 0.9753452 | 3.966587291 |  1 |  1 |  5 | 14 |  4 |  3 |  4.666667 | 16.64286 | 1 |\n",
       "| balance|housing   |  4.6932230 |  6 |  2.87161374 | 0.47860229 | 0.7822038 | 2.104747078 |  7 |  6 |  9 | 10 |  7 | 10 |  8.166667 | 22.50000 | 1 |\n",
       "| age|age           |  4.7286348 |  6 |  3.95406355 | 0.65901059 | 0.7881058 | 2.618388780 |  6 |  7 |  4 |  6 |  6 |  6 |  5.833333 | 18.83333 | 1 |\n",
       "| balance|default   |  1.4898987 |  1 |  0.43639576 | 0.43639576 | 1.4898987 | 0.650185474 | 14 | 16 | 15 | 11 |  1 | 12 | 11.500000 | 12.00000 | 1 |\n",
       "| age|balance       |  3.1562313 |  5 |  3.51295641 | 0.70259128 | 0.6312463 | 2.291797209 | 10 |  9 |  6 |  4 | 12 |  9 |  8.333333 | 25.20000 | 1 |\n",
       "| balance|education |  0.1016792 |  1 |  0.02002356 | 0.02002356 | 0.1016792 | 0.002035979 | 18 | 17 | 18 | 18 | 18 | 18 | 17.833333 | 43.00000 | 1 |\n",
       "| housing|loan      |  0.3607950 |  1 |  0.56419319 | 0.56419319 | 0.3607950 | 0.203558094 | 17 | 18 | 14 |  7 | 15 | 15 | 14.333333 | 10.00000 | 1 |\n",
       "| job|loan          |  4.0530090 |  6 |  4.47526510 | 0.74587752 | 0.6755015 | 3.345297075 |  9 |  8 |  3 |  3 | 11 |  5 |  6.500000 | 26.83333 | 1 |\n",
       "| age|loan          |  2.3646898 |  5 |  0.73910482 | 0.14782096 | 0.4729380 | 0.349550731 | 12 | 10 | 13 | 15 | 14 | 14 | 13.000000 | 20.00000 | 1 |\n",
       "| balance|balance   |  9.0703017 | 13 | 10.65371019 | 0.81951617 | 0.6977155 | 8.509124227 |  3 |  2 |  1 |  2 | 10 |  1 |  3.166667 | 31.92308 | 1 |\n",
       "| job|marital       |  4.8923187 |  5 |  2.63280332 | 0.52656066 | 0.9784637 | 2.520669832 |  5 | 11 | 10 |  8 |  3 |  8 |  7.500000 | 28.80000 | 1 |\n",
       "| housing|job       |  1.4795456 |  2 |  0.87161368 | 0.43580684 | 0.7397728 | 0.644796091 | 15 | 14 | 12 | 12 |  9 | 13 | 12.500000 | 30.50000 | 1 |\n",
       "| balance|job       |  2.1398367 |  8 |  0.32626619 | 0.04078327 | 0.2674796 | 0.095682799 | 13 |  4 | 16 | 17 | 17 | 16 | 13.833333 | 32.75000 | 1 |\n",
       "| balance|loan      |  0.5370831 |  2 |  0.29564193 | 0.14782096 | 0.2685416 | 0.079392149 | 16 | 15 | 17 | 16 | 16 | 17 | 16.166667 | 36.00000 | 1 |\n",
       "| age|marital       |  5.4452248 |  4 |  1.97497053 | 0.49374263 | 1.3613062 | 3.519359575 |  4 | 13 | 11 |  9 |  2 |  4 |  7.166667 |  2.75000 | 1 |\n",
       "| age|education     |  4.1016220 |  7 |  3.02532392 | 0.43218913 | 0.5859460 | 0.962370085 |  8 |  5 |  8 | 13 | 13 | 11 |  9.666667 | 39.85714 | 1 |\n",
       "| age|housing       |  9.0708714 | 10 |  6.61395764 | 0.66139576 | 0.9070871 | 7.597304953 |  2 |  3 |  2 |  5 |  5 |  2 |  3.166667 | 18.00000 | 1 |\n",
       "\n",
       "\n",
       "3. \n",
       "A H2OTable: 18 × 5\n",
       "\n",
       "| interaction &lt;chr&gt; | sum_leaf_values_left &lt;dbl&gt; | sum_leaf_values_right &lt;dbl&gt; | sum_leaf_covers_left &lt;dbl&gt; | sum_leaf_covers_right &lt;dbl&gt; |\n",
       "|---|---|---|---|---|\n",
       "| loan|marital      | -0.03020679 |  0.09289676 |  7148 |  4428 |\n",
       "| age|job           | -0.18687751 |  1.86585937 |  6720 |  5585 |\n",
       "| balance|housing   |  0.02980969 |  0.04016096 |  3877 |  5875 |\n",
       "| age|age           |  0.49702663 |  0.76486537 |  6548 |  6880 |\n",
       "| balance|default   |  0.01861086 |  0.85310012 |  1480 |     2 |\n",
       "| age|balance       |  0.13442569 |  0.21275723 |  7374 |  4556 |\n",
       "| balance|education | -0.10991792 |  0.07167227 |    62 |     6 |\n",
       "| housing|loan      | -0.06027932 | -0.01369802 |   285 |  1631 |\n",
       "| job|loan          | -0.21898967 |  0.05016825 |  4180 | 11018 |\n",
       "| age|loan          |  0.15877504 | -0.31614067 |   435 |  2075 |\n",
       "| balance|balance   | -0.28567878 |  1.33377333 | 30597 |  5583 |\n",
       "| job|marital       | -0.11892640 |  0.14720548 |  5276 |  3665 |\n",
       "| housing|job       |  0.00588262 |  0.08518918 |  2365 |   595 |\n",
       "| balance|job       | -0.69912404 |  0.38477067 |   587 |   521 |\n",
       "| balance|loan      |  0.13100640 | -0.08922563 |   100 |   904 |\n",
       "| age|marital       |  0.18550906 |  0.63105306 |  4148 |  2559 |\n",
       "| age|education     | -0.36114474 |  0.77811304 |  3748 |  6526 |\n",
       "| age|housing       |  0.06891782 | -0.17068747 | 13122 |  9339 |\n",
       "\n",
       "\n",
       "4. \n",
       "A H2OTable: 1 × 2\n",
       "\n",
       "| split_value &lt;dbl&gt; | count &lt;int&gt; |\n",
       "|---|---|\n",
       "| NaN | 10 |\n",
       "\n",
       "\n",
       "5. \n",
       "A H2OTable: 1 × 2\n",
       "\n",
       "| split_value &lt;dbl&gt; | count &lt;int&gt; |\n",
       "|---|---|\n",
       "| NaN | 8 |\n",
       "\n",
       "\n",
       "6. \n",
       "A H2OTable: 1 × 2\n",
       "\n",
       "| split_value &lt;dbl&gt; | count &lt;int&gt; |\n",
       "|---|---|\n",
       "| NaN | 11 |\n",
       "\n",
       "\n",
       "7. \n",
       "A H2OTable: 1 × 2\n",
       "\n",
       "| split_value &lt;dbl&gt; | count &lt;int&gt; |\n",
       "|---|---|\n",
       "| NaN | 1 |\n",
       "\n",
       "\n",
       "8. \n",
       "A H2OTable: 18 × 2\n",
       "\n",
       "| split_value &lt;dbl&gt; | count &lt;int&gt; |\n",
       "|---|---|\n",
       "|  -693.5 | 1 |\n",
       "|  -184.5 | 1 |\n",
       "|  -111.5 | 2 |\n",
       "|    94.5 | 1 |\n",
       "|   179.5 | 4 |\n",
       "|   470.5 | 1 |\n",
       "|   615.5 | 3 |\n",
       "|   907.0 | 1 |\n",
       "|  1934.5 | 3 |\n",
       "|  1940.5 | 2 |\n",
       "|  4072.5 | 1 |\n",
       "|  4390.5 | 1 |\n",
       "|  5417.5 | 1 |\n",
       "|  5490.5 | 1 |\n",
       "|  5563.5 | 3 |\n",
       "|  9573.0 | 3 |\n",
       "|  9856.0 | 6 |\n",
       "| 26686.5 | 2 |\n",
       "\n",
       "\n",
       "9. \n",
       "A H2OTable: 1 × 2\n",
       "\n",
       "| split_value &lt;dbl&gt; | count &lt;int&gt; |\n",
       "|---|---|\n",
       "| NaN | 11 |\n",
       "\n",
       "\n",
       "10. \n",
       "A H2OTable: 1 × 2\n",
       "\n",
       "| split_value &lt;dbl&gt; | count &lt;int&gt; |\n",
       "|---|---|\n",
       "| NaN | 33 |\n",
       "\n",
       "\n",
       "11. \n",
       "A H2OTable: 11 × 2\n",
       "\n",
       "| split_value &lt;dbl&gt; | count &lt;int&gt; |\n",
       "|---|---|\n",
       "| 19.5 | 1 |\n",
       "| 25.5 | 6 |\n",
       "| 29.5 | 3 |\n",
       "| 31.5 | 5 |\n",
       "| 53.5 | 4 |\n",
       "| 56.5 | 1 |\n",
       "| 58.5 | 5 |\n",
       "| 60.5 | 4 |\n",
       "| 70.5 | 3 |\n",
       "| 77.5 | 6 |\n",
       "| 81.5 | 1 |\n",
       "\n",
       "\n",
       "\n",
       "\n"
      ],
      "text/plain": [
       "[[1]]\n",
       "Interaction Depth 0: \n",
       "  interaction     gain   fscore  wfscore average_wfscore average_gain\n",
       "1        loan  1.49734 10.00000  9.48292         0.94829      0.14973\n",
       "2   education  4.20332  8.00000  3.04535         0.38067      0.52541\n",
       "3     housing  6.45308 11.00000 10.92138         0.99285      0.58664\n",
       "4     default  1.48988  1.00000  0.43640         0.43640      1.48988\n",
       "5     balance 16.23292 37.00000 28.77032         0.77758      0.43873\n",
       "6     marital  9.49746 11.00000  8.01649         0.72877      0.86341\n",
       "7         job 21.80578 33.00000 11.92933         0.36149      0.66078\n",
       "8         age 13.14583 39.00000 27.39782         0.70251      0.33707\n",
       "  expected_gain gain_rank fscore_rank wfscore_rank avg_wfscore_rank\n",
       "1       1.24774         7           6            5                2\n",
       "2       0.96442         6           7            7                7\n",
       "3       6.28396         5           4            4                1\n",
       "4       0.65018         8           8            8                6\n",
       "5      12.29526         2           2            1                3\n",
       "6       6.73862         4           5            6                4\n",
       "7       8.28000         1           3            3                8\n",
       "8       5.54507         3           1            2                5\n",
       "  avg_gain_rank expected_gain_rank average_rank average_tree_index\n",
       "1             8                  6      5.66667           22.60000\n",
       "2             5                  7      6.50000           40.25000\n",
       "3             4                  4      3.66667           17.72727\n",
       "4             1                  8      6.50000           12.00000\n",
       "5             6                  1      2.50000           29.94595\n",
       "6             2                  3      4.00000           16.36364\n",
       "7             3                  2      3.33333           25.66667\n",
       "8             7                  5      3.83333           20.12821\n",
       "  average_tree_depth\n",
       "1            0.20000\n",
       "2            1.00000\n",
       "3            0.27273\n",
       "4            1.00000\n",
       "5            0.67568\n",
       "6            0.81818\n",
       "7            0.93939\n",
       "8            0.53846\n",
       "\n",
       "[[2]]\n",
       "Interaction Depth 1: \n",
       "         interaction     gain   fscore  wfscore average_wfscore average_gain\n",
       "1       loan|marital  2.98575  4.00000  3.40872         0.85218      0.74644\n",
       "2            age|job 13.65483 14.00000  3.62338         0.25881      0.97535\n",
       "3    balance|housing  4.69322  6.00000  2.87161         0.47860      0.78220\n",
       "4            age|age  4.72863  6.00000  3.95406         0.65901      0.78811\n",
       "5    balance|default  1.48990  1.00000  0.43640         0.43640      1.48990\n",
       "6        age|balance  3.15623  5.00000  3.51296         0.70259      0.63125\n",
       "7  balance|education  0.10168  1.00000  0.02002         0.02002      0.10168\n",
       "8       housing|loan  0.36080  1.00000  0.56419         0.56419      0.36080\n",
       "9           job|loan  4.05301  6.00000  4.47527         0.74588      0.67550\n",
       "10          age|loan  2.36469  5.00000  0.73910         0.14782      0.47294\n",
       "11   balance|balance  9.07030 13.00000 10.65371         0.81952      0.69772\n",
       "12       job|marital  4.89232  5.00000  2.63280         0.52656      0.97846\n",
       "13       housing|job  1.47955  2.00000  0.87161         0.43581      0.73977\n",
       "14       balance|job  2.13984  8.00000  0.32627         0.04078      0.26748\n",
       "15      balance|loan  0.53708  2.00000  0.29564         0.14782      0.26854\n",
       "16       age|marital  5.44522  4.00000  1.97497         0.49374      1.36131\n",
       "17     age|education  4.10162  7.00000  3.02532         0.43219      0.58595\n",
       "18       age|housing  9.07087 10.00000  6.61396         0.66140      0.90709\n",
       "   expected_gain gain_rank fscore_rank wfscore_rank avg_wfscore_rank\n",
       "1        2.54439        11          12            7                1\n",
       "2        3.96659         1           1            5               14\n",
       "3        2.10475         7           6            9               10\n",
       "4        2.61839         6           7            4                6\n",
       "5        0.65019        14          16           15               11\n",
       "6        2.29180        10           9            6                4\n",
       "7        0.00204        18          17           18               18\n",
       "8        0.20356        17          18           14                7\n",
       "9        3.34530         9           8            3                3\n",
       "10       0.34955        12          10           13               15\n",
       "11       8.50912         3           2            1                2\n",
       "12       2.52067         5          11           10                8\n",
       "13       0.64480        15          14           12               12\n",
       "14       0.09568        13           4           16               17\n",
       "15       0.07939        16          15           17               16\n",
       "16       3.51936         4          13           11                9\n",
       "17       0.96237         8           5            8               13\n",
       "18       7.59730         2           3            2                5\n",
       "   avg_gain_rank expected_gain_rank average_rank average_tree_index\n",
       "1              8                  7      7.66667           23.25000\n",
       "2              4                  3      4.66667           16.64286\n",
       "3              7                 10      8.16667           22.50000\n",
       "4              6                  6      5.83333           18.83333\n",
       "5              1                 12     11.50000           12.00000\n",
       "6             12                  9      8.33333           25.20000\n",
       "7             18                 18     17.83333           43.00000\n",
       "8             15                 15     14.33333           10.00000\n",
       "9             11                  5      6.50000           26.83333\n",
       "10            14                 14     13.00000           20.00000\n",
       "11            10                  1      3.16667           31.92308\n",
       "12             3                  8      7.50000           28.80000\n",
       "13             9                 13     12.50000           30.50000\n",
       "14            17                 16     13.83333           32.75000\n",
       "15            16                 17     16.16667           36.00000\n",
       "16             2                  4      7.16667            2.75000\n",
       "17            13                 11      9.66667           39.85714\n",
       "18             5                  2      3.16667           18.00000\n",
       "   average_tree_depth\n",
       "1             1.00000\n",
       "2             1.00000\n",
       "3             1.00000\n",
       "4             1.00000\n",
       "5             1.00000\n",
       "6             1.00000\n",
       "7             1.00000\n",
       "8             1.00000\n",
       "9             1.00000\n",
       "10            1.00000\n",
       "11            1.00000\n",
       "12            1.00000\n",
       "13            1.00000\n",
       "14            1.00000\n",
       "15            1.00000\n",
       "16            1.00000\n",
       "17            1.00000\n",
       "18            1.00000\n",
       "\n",
       "[[3]]\n",
       "Leaf Statistics: \n",
       "         interaction sum_leaf_values_left sum_leaf_values_right\n",
       "1       loan|marital             -0.03021               0.09290\n",
       "2            age|job             -0.18688               1.86586\n",
       "3    balance|housing              0.02981               0.04016\n",
       "4            age|age              0.49703               0.76487\n",
       "5    balance|default              0.01861               0.85310\n",
       "6        age|balance              0.13443               0.21276\n",
       "7  balance|education             -0.10992               0.07167\n",
       "8       housing|loan             -0.06028              -0.01370\n",
       "9           job|loan             -0.21899               0.05017\n",
       "10          age|loan              0.15878              -0.31614\n",
       "11   balance|balance             -0.28568               1.33377\n",
       "12       job|marital             -0.11893               0.14721\n",
       "13       housing|job              0.00588               0.08519\n",
       "14       balance|job             -0.69912               0.38477\n",
       "15      balance|loan              0.13101              -0.08923\n",
       "16       age|marital              0.18551               0.63105\n",
       "17     age|education             -0.36114               0.77811\n",
       "18       age|housing              0.06892              -0.17069\n",
       "   sum_leaf_covers_left sum_leaf_covers_right\n",
       "1            7148.00000            4428.00000\n",
       "2            6720.00000            5585.00000\n",
       "3            3877.00000            5875.00000\n",
       "4            6548.00000            6880.00000\n",
       "5            1480.00000               2.00000\n",
       "6            7374.00000            4556.00000\n",
       "7              62.00000               6.00000\n",
       "8             285.00000            1631.00000\n",
       "9            4180.00000           11018.00000\n",
       "10            435.00000            2075.00000\n",
       "11          30597.00000            5583.00000\n",
       "12           5276.00000            3665.00000\n",
       "13           2365.00000             595.00000\n",
       "14            587.00000             521.00000\n",
       "15            100.00000             904.00000\n",
       "16           4148.00000            2559.00000\n",
       "17           3748.00000            6526.00000\n",
       "18          13122.00000            9339.00000\n",
       "\n",
       "[[4]]\n",
       "loan Split Value Histogram: \n",
       "  split_value count\n",
       "1          NA    10\n",
       "\n",
       "[[5]]\n",
       "education Split Value Histogram: \n",
       "  split_value count\n",
       "1          NA     8\n",
       "\n",
       "[[6]]\n",
       "housing Split Value Histogram: \n",
       "  split_value count\n",
       "1          NA    11\n",
       "\n",
       "[[7]]\n",
       "default Split Value Histogram: \n",
       "  split_value count\n",
       "1          NA     1\n",
       "\n",
       "[[8]]\n",
       "balance Split Value Histogram: \n",
       "   split_value count\n",
       "1   -693.50000     1\n",
       "2   -184.50000     1\n",
       "3   -111.50000     2\n",
       "4     94.50000     1\n",
       "5    179.50000     4\n",
       "6    470.50000     1\n",
       "7    615.50000     3\n",
       "8    907.00000     1\n",
       "9   1934.50000     3\n",
       "10  1940.50000     2\n",
       "11  4072.50000     1\n",
       "12  4390.50000     1\n",
       "13  5417.50000     1\n",
       "14  5490.50000     1\n",
       "15  5563.50000     3\n",
       "16  9573.00000     3\n",
       "17  9856.00000     6\n",
       "18 26686.50000     2\n",
       "\n",
       "[[9]]\n",
       "marital Split Value Histogram: \n",
       "  split_value count\n",
       "1          NA    11\n",
       "\n",
       "[[10]]\n",
       "job Split Value Histogram: \n",
       "  split_value count\n",
       "1          NA    33\n",
       "\n",
       "[[11]]\n",
       "age Split Value Histogram: \n",
       "   split_value count\n",
       "1     19.50000     1\n",
       "2     25.50000     6\n",
       "3     29.50000     3\n",
       "4     31.50000     5\n",
       "5     53.50000     4\n",
       "6     56.50000     1\n",
       "7     58.50000     5\n",
       "8     60.50000     4\n",
       "9     70.50000     3\n",
       "10    77.50000     6\n",
       "11    81.50000     1\n"
      ]
     },
     "metadata": {},
     "output_type": "display_data"
    }
   ],
   "source": [
    "# Extract feature interactions:\n",
    "feature_interactions <- h2o.feature_interaction(model)\n",
    "feature_interactions"
   ]
  },
  {
   "cell_type": "markdown",
   "id": "2ee17d94-4c2d-494d-93c8-e3f9dcd5c6e3",
   "metadata": {},
   "source": [
    "The h2o.predict function outputs a data frame with “no” and “yes” prediction columns with the percentage and the prediction column. With this dataframe we can get the accurracy of our model with a confusion matrix."
   ]
  },
  {
   "cell_type": "code",
   "execution_count": 19,
   "id": "d4026c08-b45e-4ecb-8805-7bb7c4a1f32b",
   "metadata": {},
   "outputs": [
    {
     "data": {
      "text/plain": [
       "Confusion Matrix and Statistics\n",
       "\n",
       "          Reference\n",
       "Prediction  no yes\n",
       "       no  831 149\n",
       "       yes  98  47\n",
       "                                          \n",
       "               Accuracy : 0.7804          \n",
       "                 95% CI : (0.7551, 0.8043)\n",
       "    No Information Rate : 0.8258          \n",
       "    P-Value [Acc > NIR] : 0.999958        \n",
       "                                          \n",
       "                  Kappa : 0.1497          \n",
       "                                          \n",
       " Mcnemar's Test P-Value : 0.001466        \n",
       "                                          \n",
       "            Sensitivity : 0.8945          \n",
       "            Specificity : 0.2398          \n",
       "         Pos Pred Value : 0.8480          \n",
       "         Neg Pred Value : 0.3241          \n",
       "             Prevalence : 0.8258          \n",
       "         Detection Rate : 0.7387          \n",
       "   Detection Prevalence : 0.8711          \n",
       "      Balanced Accuracy : 0.5672          \n",
       "                                          \n",
       "       'Positive' Class : no              \n",
       "                                          "
      ]
     },
     "metadata": {},
     "output_type": "display_data"
    }
   ],
   "source": [
    "tester <- as.data.frame(splits[[2]])\n",
    "pred_df <- as.data.frame(pred)\n",
    "\n",
    "library(caret)\n",
    "confusionMatrix(tester$y, pred_df$predict)"
   ]
  },
  {
   "cell_type": "markdown",
   "id": "9c5e98ec-c8fd-4a1a-9b61-7d73fd481c91",
   "metadata": {},
   "source": [
    "In our first training the accuracy is 0,78 so we will try with other hyperparameters to find a better result.\n",
    "\n",
    "Let's try with a setting of ntrees = 100, max_depth = 5 and min_rows = 3."
   ]
  },
  {
   "cell_type": "code",
   "execution_count": 25,
   "id": "e847d483-4428-4bad-b640-7c2fc1f8d0fc",
   "metadata": {},
   "outputs": [
    {
     "name": "stdout",
     "output_type": "stream",
     "text": [
      "  |======================================================================| 100%\n",
      "  |======================================================================| 100%\n"
     ]
    }
   ],
   "source": [
    "model <- h2o.gbm(x = c(1:8), y = 9, training_frame = splits[[1]], categorical_encoding = 'auto', ntrees = 100, max_depth = 5, min_rows = 3, learn_rate = 0.1)\n",
    "pred <- h2o.predict(model, splits[[2]])"
   ]
  },
  {
   "cell_type": "code",
   "execution_count": 26,
   "id": "99af3460-7659-45b5-8494-e56da1561d93",
   "metadata": {},
   "outputs": [
    {
     "data": {
      "text/plain": [
       "H2OBinomialMetrics: gbm\n",
       "** Reported on training data. **\n",
       "\n",
       "MSE:  0.06177043\n",
       "RMSE:  0.2485366\n",
       "LogLoss:  0.2202796\n",
       "Mean Per-Class Error:  0.1987319\n",
       "AUC:  0.9166554\n",
       "AUCPR:  0.7284915\n",
       "Gini:  0.8333107\n",
       "R^2:  0.3726337\n",
       "\n",
       "Confusion Matrix (vertical: actual; across: predicted) for F1-optimal threshold:\n",
       "         no yes    Error       Rate\n",
       "no     2912 108 0.035762  =108/3020\n",
       "yes     136 240 0.361702   =136/376\n",
       "Totals 3048 348 0.071849  =244/3396\n",
       "\n",
       "Maximum Metrics: Maximum metrics at their respective thresholds\n",
       "                        metric threshold       value idx\n",
       "1                       max f1  0.209534    0.662983 156\n",
       "2                       max f2  0.156831    0.675095 194\n",
       "3                 max f0point5  0.303787    0.750000 115\n",
       "4                 max accuracy  0.281344    0.935512 122\n",
       "5                max precision  0.950483    1.000000   0\n",
       "6                   max recall  0.032192    1.000000 356\n",
       "7              max specificity  0.950483    1.000000   0\n",
       "8             max absolute_mcc  0.261898    0.627306 129\n",
       "9   max min_per_class_accuracy  0.126248    0.816887 221\n",
       "10 max mean_per_class_accuracy  0.155749    0.825342 195\n",
       "11                     max tns  0.950483 3020.000000   0\n",
       "12                     max fns  0.950483  375.000000   0\n",
       "13                     max fps  0.002590 3020.000000 399\n",
       "14                     max tps  0.032192  376.000000 356\n",
       "15                     max tnr  0.950483    1.000000   0\n",
       "16                     max fnr  0.950483    0.997340   0\n",
       "17                     max fpr  0.002590    1.000000 399\n",
       "18                     max tpr  0.032192    1.000000 356\n",
       "\n",
       "Gains/Lift Table: Extract with `h2o.gainsLift(<model>, <data>)` or `h2o.gainsLift(<model>, valid=<T/F>, xval=<T/F>)`"
      ]
     },
     "metadata": {},
     "output_type": "display_data"
    }
   ],
   "source": [
    "# Eval performance:\n",
    "perf <- h2o.performance(model)\n",
    "perf"
   ]
  },
  {
   "cell_type": "code",
   "execution_count": 27,
   "id": "3d2362f0-7c6f-4674-a950-71b8e8acffdc",
   "metadata": {},
   "outputs": [
    {
     "data": {
      "text/plain": [
       "Confusion Matrix and Statistics\n",
       "\n",
       "          Reference\n",
       "Prediction  no yes\n",
       "       no  913  67\n",
       "       yes 121  24\n",
       "                                          \n",
       "               Accuracy : 0.8329          \n",
       "                 95% CI : (0.8098, 0.8542)\n",
       "    No Information Rate : 0.9191          \n",
       "    P-Value [Acc > NIR] : 1.0000000       \n",
       "                                          \n",
       "                  Kappa : 0.1155          \n",
       "                                          \n",
       " Mcnemar's Test P-Value : 0.0001109       \n",
       "                                          \n",
       "            Sensitivity : 0.8830          \n",
       "            Specificity : 0.2637          \n",
       "         Pos Pred Value : 0.9316          \n",
       "         Neg Pred Value : 0.1655          \n",
       "             Prevalence : 0.9191          \n",
       "         Detection Rate : 0.8116          \n",
       "   Detection Prevalence : 0.8711          \n",
       "      Balanced Accuracy : 0.5734          \n",
       "                                          \n",
       "       'Positive' Class : no              \n",
       "                                          "
      ]
     },
     "metadata": {},
     "output_type": "display_data"
    }
   ],
   "source": [
    "pred_df <- as.data.frame(pred)\n",
    "confusionMatrix(tester$y, pred_df$predict)"
   ]
  },
  {
   "cell_type": "markdown",
   "id": "e33250f6-64b7-43a3-930c-b735d132eb1a",
   "metadata": {},
   "source": [
    "The accuracy has increased significantly. Let's try now with a setting of ntrees = 200, max_depth = 10 and min_rows = 5."
   ]
  },
  {
   "cell_type": "code",
   "execution_count": 28,
   "id": "26b4b2d9-8353-418e-9ed9-518f5abee04a",
   "metadata": {},
   "outputs": [
    {
     "name": "stdout",
     "output_type": "stream",
     "text": [
      "  |======================================================================| 100%\n",
      "  |======================================================================| 100%\n"
     ]
    }
   ],
   "source": [
    "model <- h2o.gbm(x = c(1:8), y = 9, training_frame = splits[[1]], categorical_encoding = 'auto', ntrees = 200, max_depth = 10, min_rows = 5, learn_rate = 0.1)\n",
    "pred <- h2o.predict(model, splits[[2]])"
   ]
  },
  {
   "cell_type": "code",
   "execution_count": 29,
   "id": "b7a60f5e-d51d-4a95-a130-9445e5ccd2d5",
   "metadata": {},
   "outputs": [
    {
     "data": {
      "text/plain": [
       "H2OBinomialMetrics: gbm\n",
       "** Reported on training data. **\n",
       "\n",
       "MSE:  0.002357139\n",
       "RMSE:  0.04855038\n",
       "LogLoss:  0.01832112\n",
       "Mean Per-Class Error:  0.002323165\n",
       "AUC:  0.999978\n",
       "AUCPR:  0.9998243\n",
       "Gini:  0.999956\n",
       "R^2:  0.9760599\n",
       "\n",
       "Confusion Matrix (vertical: actual; across: predicted) for F1-optimal threshold:\n",
       "         no yes    Error     Rate\n",
       "no     3014   6 0.001987  =6/3020\n",
       "yes       1 375 0.002660   =1/376\n",
       "Totals 3015 381 0.002061  =7/3396\n",
       "\n",
       "Maximum Metrics: Maximum metrics at their respective thresholds\n",
       "                        metric threshold       value idx\n",
       "1                       max f1  0.385356    0.990753 183\n",
       "2                       max f2  0.288109    0.995763 184\n",
       "3                 max f0point5  0.685888    0.996220 177\n",
       "4                 max accuracy  0.685888    0.997939 177\n",
       "5                max precision  0.998756    1.000000   0\n",
       "6                   max recall  0.288109    1.000000 184\n",
       "7              max specificity  0.998756    1.000000   0\n",
       "8             max absolute_mcc  0.385356    0.989620 183\n",
       "9   max min_per_class_accuracy  0.288109    0.997351 184\n",
       "10 max mean_per_class_accuracy  0.288109    0.998675 184\n",
       "11                     max tns  0.998756 3020.000000   0\n",
       "12                     max fns  0.998756  374.000000   0\n",
       "13                     max fps  0.000054 3020.000000 399\n",
       "14                     max tps  0.288109  376.000000 184\n",
       "15                     max tnr  0.998756    1.000000   0\n",
       "16                     max fnr  0.998756    0.994681   0\n",
       "17                     max fpr  0.000054    1.000000 399\n",
       "18                     max tpr  0.288109    1.000000 184\n",
       "\n",
       "Gains/Lift Table: Extract with `h2o.gainsLift(<model>, <data>)` or `h2o.gainsLift(<model>, valid=<T/F>, xval=<T/F>)`"
      ]
     },
     "metadata": {},
     "output_type": "display_data"
    }
   ],
   "source": [
    "# Eval performance:\n",
    "perf <- h2o.performance(model)\n",
    "perf"
   ]
  },
  {
   "cell_type": "code",
   "execution_count": 36,
   "id": "af8cf66a-d2c9-48d9-89bf-7405173405ef",
   "metadata": {},
   "outputs": [
    {
     "data": {
      "text/plain": [
       "Confusion Matrix and Statistics\n",
       "\n",
       "     \n",
       "       no yes\n",
       "  no  831  98\n",
       "  yes 149  47\n",
       "                                          \n",
       "               Accuracy : 0.7804          \n",
       "                 95% CI : (0.7551, 0.8043)\n",
       "    No Information Rate : 0.8711          \n",
       "    P-Value [Acc > NIR] : 1.000000        \n",
       "                                          \n",
       "                  Kappa : 0.1497          \n",
       "                                          \n",
       " Mcnemar's Test P-Value : 0.001466        \n",
       "                                          \n",
       "            Sensitivity : 0.8480          \n",
       "            Specificity : 0.3241          \n",
       "         Pos Pred Value : 0.8945          \n",
       "         Neg Pred Value : 0.2398          \n",
       "             Prevalence : 0.8711          \n",
       "         Detection Rate : 0.7387          \n",
       "   Detection Prevalence : 0.8258          \n",
       "      Balanced Accuracy : 0.5860          \n",
       "                                          \n",
       "       'Positive' Class : no              \n",
       "                                          "
      ]
     },
     "metadata": {},
     "output_type": "display_data"
    },
    {
     "data": {
      "image/png": "[encoded data removed]",
      "text/plain": [
       "plot without title"
      ]
     },
     "metadata": {
      "image/png": {
       "height": 420,
       "width": 420
      }
     },
     "output_type": "display_data"
    }
   ],
   "source": [
    "pred_df <- as.data.frame(pred)\n",
    "library(caret)\n",
    "cm <- confusionMatrix(table(pred_df$predict, tester$y))\n",
    "cm\n",
    "fourfoldplot(cm$table)\n",
    "#png(\"artifacts/output/confusion_matrix.png\", width = 860, height = 860)"
   ]
  },
  {
   "cell_type": "code",
   "execution_count": 38,
   "id": "54a61e88-dfec-4004-8109-f6609843095a",
   "metadata": {},
   "outputs": [
    {
     "data": {
      "text/html": [
       "<style>\n",
       ".dl-inline {width: auto; margin:0; padding: 0}\n",
       ".dl-inline>dt, .dl-inline>dd {float: none; width: auto; display: inline-block}\n",
       ".dl-inline>dt::after {content: \":\\0020\"; padding-right: .5ex}\n",
       ".dl-inline>dt:not(:first-of-type) {padding-left: .5ex}\n",
       "</style><dl class=dl-inline><dt>Accuracy</dt><dd>0.780444444444444</dd><dt>Kappa</dt><dd>0.149670272503328</dd><dt>AccuracyLower</dt><dd>0.755093953588449</dd><dt>AccuracyUpper</dt><dd>0.804319006327091</dd><dt>AccuracyNull</dt><dd>0.871111111111111</dd><dt>AccuracyPValue</dt><dd>1</dd><dt>McnemarPValue</dt><dd>0.00146553062831533</dd></dl>\n"
      ],
      "text/latex": [
       "\\begin{description*}\n",
       "\\item[Accuracy] 0.780444444444444\n",
       "\\item[Kappa] 0.149670272503328\n",
       "\\item[AccuracyLower] 0.755093953588449\n",
       "\\item[AccuracyUpper] 0.804319006327091\n",
       "\\item[AccuracyNull] 0.871111111111111\n",
       "\\item[AccuracyPValue] 1\n",
       "\\item[McnemarPValue] 0.00146553062831533\n",
       "\\end{description*}\n"
      ],
      "text/markdown": [
       "Accuracy\n",
       ":   0.780444444444444Kappa\n",
       ":   0.149670272503328AccuracyLower\n",
       ":   0.755093953588449AccuracyUpper\n",
       ":   0.804319006327091AccuracyNull\n",
       ":   0.871111111111111AccuracyPValue\n",
       ":   1McnemarPValue\n",
       ":   0.00146553062831533\n",
       "\n"
      ],
      "text/plain": [
       "      Accuracy          Kappa  AccuracyLower  AccuracyUpper   AccuracyNull \n",
       "   0.780444444    0.149670273    0.755093954    0.804319006    0.871111111 \n",
       "AccuracyPValue  McnemarPValue \n",
       "   1.000000000    0.001465531 "
      ]
     },
     "metadata": {},
     "output_type": "display_data"
    }
   ],
   "source": [
    "cm$overall"
   ]
  },
  {
   "cell_type": "markdown",
   "id": "6292cd9e-cb60-49c1-a2ec-2097aea4c4fc",
   "metadata": {},
   "source": [
    "In these examples, the model accuracy has improved greatly, with the true positive rate more than doubling and the overall accuracy rising from 78.04 percent to 85.33 percent"
   ]
  }
 ],
 "metadata": {
  "kernelspec": {
   "display_name": "R",
   "language": "R",
   "name": "ir"
  },
  "language_info": {
   "codemirror_mode": "r",
   "file_extension": ".r",
   "mimetype": "text/x-r-source",
   "name": "R",
   "pygments_lexer": "r",
   "version": "4.0.3"
  }
 },
 "nbformat": 4,
 "nbformat_minor": 5
}
